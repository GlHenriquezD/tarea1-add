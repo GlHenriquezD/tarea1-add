{
 "cells": [
  {
   "cell_type": "markdown",
   "id": "72998680",
   "metadata": {},
   "source": [
    "Crea un nuevo notebook de jupyter, guárdelo en la carpeta notebooks con el nombre 3_nb_***.ipynb donde *** es el github del integrante 1. Una vez que tenga todo el ejercicio listo, limpie los outputs, reinicie el kernel y corra todo el notebook. Luego, exporta el notebook como html y guárdalo en la carpeta output.\n"
   ]
  },
  {
   "cell_type": "markdown",
   "id": "6c9f5de0",
   "metadata": {},
   "source": [
    "En el notebook 3_nb_***.ipynb, cargue los dos archivos d2019.csv y d2020.txt en dos dataframes llamados df2019 y df2020 respectivamente. Luego, usando el método melt, genera un dataframe llamado df_sii donde estén incluidos los datos del 2019 y del 2020, que tenga las columnas year,mes, dia, valor, y guardalo como csv en la carpeta data/interim con el nombre df_sii.csv."
   ]
  },
  {
   "cell_type": "code",
   "execution_count": 1,
   "id": "07fd9a1e",
   "metadata": {},
   "outputs": [],
   "source": [
    "# IMPORTAR LIBRERÍAS\n",
    "\n",
    "import pandas as pd\n",
    "import numpy as np\n",
    "import seaborn as sb\n",
    "import matplotlib.pylab as plt\n",
    "%matplotlib inline\n",
    "import re"
   ]
  },
  {
   "cell_type": "markdown",
   "id": "8e89f9cf",
   "metadata": {},
   "source": [
    "### Importar Archivos"
   ]
  },
  {
   "cell_type": "code",
   "execution_count": 2,
   "id": "5b956909",
   "metadata": {},
   "outputs": [],
   "source": [
    "\n",
    "df2019=pd.read_csv(\"C:/Users/drasu/Documents/Analisis de Datos/Tarea_1_parte_3/d2019.csv\")"
   ]
  },
  {
   "cell_type": "code",
   "execution_count": 3,
   "id": "0346732d",
   "metadata": {},
   "outputs": [
    {
     "data": {
      "text/html": [
       "<div>\n",
       "<style scoped>\n",
       "    .dataframe tbody tr th:only-of-type {\n",
       "        vertical-align: middle;\n",
       "    }\n",
       "\n",
       "    .dataframe tbody tr th {\n",
       "        vertical-align: top;\n",
       "    }\n",
       "\n",
       "    .dataframe thead th {\n",
       "        text-align: right;\n",
       "    }\n",
       "</style>\n",
       "<table border=\"1\" class=\"dataframe\">\n",
       "  <thead>\n",
       "    <tr style=\"text-align: right;\">\n",
       "      <th></th>\n",
       "      <th>Unnamed: 0</th>\n",
       "      <th>Día</th>\n",
       "      <th>Ene</th>\n",
       "      <th>Feb</th>\n",
       "      <th>Mar</th>\n",
       "      <th>Abr</th>\n",
       "      <th>May</th>\n",
       "      <th>Jun</th>\n",
       "      <th>Jul</th>\n",
       "      <th>Ago</th>\n",
       "      <th>Sep</th>\n",
       "      <th>Oct</th>\n",
       "      <th>Nov</th>\n",
       "      <th>Dic</th>\n",
       "      <th>year</th>\n",
       "    </tr>\n",
       "  </thead>\n",
       "  <tbody>\n",
       "    <tr>\n",
       "      <th>0</th>\n",
       "      <td>0</td>\n",
       "      <td>1</td>\n",
       "      <td>NaN</td>\n",
       "      <td>657.81</td>\n",
       "      <td>651.79</td>\n",
       "      <td>678.53</td>\n",
       "      <td>NaN</td>\n",
       "      <td>NaN</td>\n",
       "      <td>679.15</td>\n",
       "      <td>700.82</td>\n",
       "      <td>NaN</td>\n",
       "      <td>728.21</td>\n",
       "      <td>NaN</td>\n",
       "      <td>NaN</td>\n",
       "      <td>2019</td>\n",
       "    </tr>\n",
       "    <tr>\n",
       "      <th>1</th>\n",
       "      <td>1</td>\n",
       "      <td>2</td>\n",
       "      <td>694.77</td>\n",
       "      <td>NaN</td>\n",
       "      <td>NaN</td>\n",
       "      <td>672.56</td>\n",
       "      <td>678.71</td>\n",
       "      <td>NaN</td>\n",
       "      <td>677.62</td>\n",
       "      <td>704.88</td>\n",
       "      <td>720.20</td>\n",
       "      <td>729.38</td>\n",
       "      <td>NaN</td>\n",
       "      <td>812.13</td>\n",
       "      <td>2019</td>\n",
       "    </tr>\n",
       "    <tr>\n",
       "      <th>2</th>\n",
       "      <td>2</td>\n",
       "      <td>3</td>\n",
       "      <td>697.09</td>\n",
       "      <td>NaN</td>\n",
       "      <td>NaN</td>\n",
       "      <td>670.05</td>\n",
       "      <td>683.31</td>\n",
       "      <td>709.8</td>\n",
       "      <td>681.30</td>\n",
       "      <td>NaN</td>\n",
       "      <td>724.72</td>\n",
       "      <td>727.80</td>\n",
       "      <td>NaN</td>\n",
       "      <td>804.29</td>\n",
       "      <td>2019</td>\n",
       "    </tr>\n",
       "  </tbody>\n",
       "</table>\n",
       "</div>"
      ],
      "text/plain": [
       "   Unnamed: 0  Día     Ene     Feb     Mar     Abr     May    Jun     Jul  \\\n",
       "0           0    1     NaN  657.81  651.79  678.53     NaN    NaN  679.15   \n",
       "1           1    2  694.77     NaN     NaN  672.56  678.71    NaN  677.62   \n",
       "2           2    3  697.09     NaN     NaN  670.05  683.31  709.8  681.30   \n",
       "\n",
       "      Ago     Sep     Oct  Nov     Dic  year  \n",
       "0  700.82     NaN  728.21  NaN     NaN  2019  \n",
       "1  704.88  720.20  729.38  NaN  812.13  2019  \n",
       "2     NaN  724.72  727.80  NaN  804.29  2019  "
      ]
     },
     "execution_count": 3,
     "metadata": {},
     "output_type": "execute_result"
    }
   ],
   "source": [
    "df2019.head(3)"
   ]
  },
  {
   "cell_type": "code",
   "execution_count": 4,
   "id": "9541bc17",
   "metadata": {},
   "outputs": [],
   "source": [
    "df2020=pd.read_csv(\"C:/Users/drasu/Documents/Analisis de Datos/Tarea_1_parte_3/d2020.txt\", sep=\" \", header= 0)\n"
   ]
  },
  {
   "cell_type": "code",
   "execution_count": 5,
   "id": "58e34c3e",
   "metadata": {
    "scrolled": true
   },
   "outputs": [
    {
     "data": {
      "text/html": [
       "<div>\n",
       "<style scoped>\n",
       "    .dataframe tbody tr th:only-of-type {\n",
       "        vertical-align: middle;\n",
       "    }\n",
       "\n",
       "    .dataframe tbody tr th {\n",
       "        vertical-align: top;\n",
       "    }\n",
       "\n",
       "    .dataframe thead th {\n",
       "        text-align: right;\n",
       "    }\n",
       "</style>\n",
       "<table border=\"1\" class=\"dataframe\">\n",
       "  <thead>\n",
       "    <tr style=\"text-align: right;\">\n",
       "      <th></th>\n",
       "      <th>Unnamed: 0</th>\n",
       "      <th>Día</th>\n",
       "      <th>Ene</th>\n",
       "      <th>Feb</th>\n",
       "      <th>Mar</th>\n",
       "      <th>Abr</th>\n",
       "      <th>May</th>\n",
       "      <th>Jun</th>\n",
       "      <th>Jul</th>\n",
       "      <th>Ago</th>\n",
       "      <th>Sep</th>\n",
       "      <th>Oct</th>\n",
       "      <th>Nov</th>\n",
       "      <th>Dic</th>\n",
       "      <th>year</th>\n",
       "    </tr>\n",
       "  </thead>\n",
       "  <tbody>\n",
       "    <tr>\n",
       "      <th>0</th>\n",
       "      <td>0</td>\n",
       "      <td>1</td>\n",
       "      <td>NaN</td>\n",
       "      <td>NaN</td>\n",
       "      <td>NaN</td>\n",
       "      <td>852.03</td>\n",
       "      <td>NaN</td>\n",
       "      <td>806.32</td>\n",
       "      <td>821.23</td>\n",
       "      <td>NaN</td>\n",
       "      <td>776.46</td>\n",
       "      <td>788.15</td>\n",
       "      <td>NaN</td>\n",
       "      <td>767.29</td>\n",
       "      <td>2020</td>\n",
       "    </tr>\n",
       "    <tr>\n",
       "      <th>1</th>\n",
       "      <td>1</td>\n",
       "      <td>2</td>\n",
       "      <td>748.74</td>\n",
       "      <td>NaN</td>\n",
       "      <td>818.32</td>\n",
       "      <td>863.81</td>\n",
       "      <td>NaN</td>\n",
       "      <td>796.46</td>\n",
       "      <td>816.29</td>\n",
       "      <td>NaN</td>\n",
       "      <td>770.59</td>\n",
       "      <td>785.04</td>\n",
       "      <td>771.92</td>\n",
       "      <td>760.16</td>\n",
       "      <td>2020</td>\n",
       "    </tr>\n",
       "    <tr>\n",
       "      <th>2</th>\n",
       "      <td>2</td>\n",
       "      <td>3</td>\n",
       "      <td>754.16</td>\n",
       "      <td>799.11</td>\n",
       "      <td>817.45</td>\n",
       "      <td>861.89</td>\n",
       "      <td>NaN</td>\n",
       "      <td>782.86</td>\n",
       "      <td>803.98</td>\n",
       "      <td>757.06</td>\n",
       "      <td>771.45</td>\n",
       "      <td>NaN</td>\n",
       "      <td>769.17</td>\n",
       "      <td>755.34</td>\n",
       "      <td>2020</td>\n",
       "    </tr>\n",
       "  </tbody>\n",
       "</table>\n",
       "</div>"
      ],
      "text/plain": [
       "   Unnamed: 0  Día     Ene     Feb     Mar     Abr  May     Jun     Jul  \\\n",
       "0           0    1     NaN     NaN     NaN  852.03  NaN  806.32  821.23   \n",
       "1           1    2  748.74     NaN  818.32  863.81  NaN  796.46  816.29   \n",
       "2           2    3  754.16  799.11  817.45  861.89  NaN  782.86  803.98   \n",
       "\n",
       "      Ago     Sep     Oct     Nov     Dic  year  \n",
       "0     NaN  776.46  788.15     NaN  767.29  2020  \n",
       "1     NaN  770.59  785.04  771.92  760.16  2020  \n",
       "2  757.06  771.45     NaN  769.17  755.34  2020  "
      ]
     },
     "execution_count": 5,
     "metadata": {},
     "output_type": "execute_result"
    }
   ],
   "source": [
    "df2020.head(3)"
   ]
  },
  {
   "cell_type": "markdown",
   "id": "7802a34e",
   "metadata": {},
   "source": [
    "### Luego, usando el método melt, genera un dataframe llamado df_sii donde estén incluidos los datos del 2019 y del 2020, que tenga las columnas year,mes, dia, valor, y guardalo como csv en la carpeta data/interim con el nombre df_sii.csv."
   ]
  },
  {
   "cell_type": "code",
   "execution_count": 6,
   "id": "0a934c91",
   "metadata": {},
   "outputs": [
    {
     "name": "stdout",
     "output_type": "stream",
     "text": [
      "    Unnamed: 0  Día     Ene     Feb     Mar     Abr     May     Jun     Jul  \\\n",
      "0            0    1     NaN  657.81  651.79  678.53     NaN     NaN  679.15   \n",
      "1            1    2  694.77     NaN     NaN  672.56  678.71     NaN  677.62   \n",
      "2            2    3  697.09     NaN     NaN  670.05  683.31  709.80  681.30   \n",
      "3            3    4  697.64  655.39  656.57  667.55     NaN  704.59  680.48   \n",
      "4            4    5     NaN  653.80  659.07  666.32     NaN  696.78  677.64   \n",
      "..         ...  ...     ...     ...     ...     ...     ...     ...     ...   \n",
      "26          26   27  776.52  811.10  836.05  859.95  802.10     NaN  768.63   \n",
      "27          27   28  787.86  816.26     NaN  856.76  816.47     NaN  768.81   \n",
      "28          28   29  788.13     NaN     NaN  850.41  812.74     NaN  767.82   \n",
      "29          29   30  788.18     NaN  835.23  836.62     NaN  816.36  759.18   \n",
      "30          30   31  797.96     NaN  846.30     NaN     NaN     NaN  754.45   \n",
      "\n",
      "       Ago     Sep     Oct     Nov     Dic  year  \n",
      "0   700.82     NaN  728.21     NaN     NaN  2019  \n",
      "1   704.88  720.20  729.38     NaN  812.13  2019  \n",
      "2      NaN  724.72  727.80     NaN  804.29  2019  \n",
      "3      NaN  725.69  719.53  735.05  802.44  2019  \n",
      "4   711.13  723.30     NaN  736.66  796.75  2019  \n",
      "..     ...     ...     ...     ...     ...   ...  \n",
      "26  786.91     NaN  779.57  766.00     NaN  2020  \n",
      "27  784.27  787.15  772.05     NaN  710.26  2020  \n",
      "28     NaN  784.19  775.56     NaN  710.64  2020  \n",
      "29     NaN  784.46  770.45  766.69  711.24  2020  \n",
      "30  779.92     NaN     NaN     NaN     NaN  2020  \n",
      "\n",
      "[62 rows x 15 columns]\n"
     ]
    }
   ],
   "source": [
    "df1920=pd.concat([df2019,df2020], axis=0)\n",
    "print(df1920)"
   ]
  },
  {
   "cell_type": "code",
   "execution_count": 7,
   "id": "80675d0a",
   "metadata": {},
   "outputs": [
    {
     "data": {
      "text/plain": [
       "Index(['Día', 'Ene', 'Feb', 'Mar', 'Abr', 'May', 'Jun', 'Jul', 'Ago', 'Sep',\n",
       "       'Oct', 'Nov', 'Dic', 'year'],\n",
       "      dtype='object')"
      ]
     },
     "execution_count": 7,
     "metadata": {},
     "output_type": "execute_result"
    }
   ],
   "source": [
    "df1920_1=df1920.drop(columns=['Unnamed: 0'])\n",
    "df1920_1.columns"
   ]
  },
  {
   "cell_type": "code",
   "execution_count": 8,
   "id": "b435fda5",
   "metadata": {},
   "outputs": [
    {
     "data": {
      "text/html": [
       "<div>\n",
       "<style scoped>\n",
       "    .dataframe tbody tr th:only-of-type {\n",
       "        vertical-align: middle;\n",
       "    }\n",
       "\n",
       "    .dataframe tbody tr th {\n",
       "        vertical-align: top;\n",
       "    }\n",
       "\n",
       "    .dataframe thead th {\n",
       "        text-align: right;\n",
       "    }\n",
       "</style>\n",
       "<table border=\"1\" class=\"dataframe\">\n",
       "  <thead>\n",
       "    <tr style=\"text-align: right;\">\n",
       "      <th></th>\n",
       "      <th>Día</th>\n",
       "      <th>Ene</th>\n",
       "      <th>Feb</th>\n",
       "      <th>Mar</th>\n",
       "      <th>Abr</th>\n",
       "      <th>May</th>\n",
       "      <th>Jun</th>\n",
       "      <th>Jul</th>\n",
       "      <th>Ago</th>\n",
       "      <th>Sep</th>\n",
       "      <th>Oct</th>\n",
       "      <th>Nov</th>\n",
       "      <th>Dic</th>\n",
       "      <th>year</th>\n",
       "    </tr>\n",
       "  </thead>\n",
       "  <tbody>\n",
       "    <tr>\n",
       "      <th>0</th>\n",
       "      <td>1</td>\n",
       "      <td>NaN</td>\n",
       "      <td>657.81</td>\n",
       "      <td>651.79</td>\n",
       "      <td>678.53</td>\n",
       "      <td>NaN</td>\n",
       "      <td>NaN</td>\n",
       "      <td>679.15</td>\n",
       "      <td>700.82</td>\n",
       "      <td>NaN</td>\n",
       "      <td>728.21</td>\n",
       "      <td>NaN</td>\n",
       "      <td>NaN</td>\n",
       "      <td>2019</td>\n",
       "    </tr>\n",
       "    <tr>\n",
       "      <th>1</th>\n",
       "      <td>2</td>\n",
       "      <td>694.77</td>\n",
       "      <td>NaN</td>\n",
       "      <td>NaN</td>\n",
       "      <td>672.56</td>\n",
       "      <td>678.71</td>\n",
       "      <td>NaN</td>\n",
       "      <td>677.62</td>\n",
       "      <td>704.88</td>\n",
       "      <td>720.20</td>\n",
       "      <td>729.38</td>\n",
       "      <td>NaN</td>\n",
       "      <td>812.13</td>\n",
       "      <td>2019</td>\n",
       "    </tr>\n",
       "    <tr>\n",
       "      <th>2</th>\n",
       "      <td>3</td>\n",
       "      <td>697.09</td>\n",
       "      <td>NaN</td>\n",
       "      <td>NaN</td>\n",
       "      <td>670.05</td>\n",
       "      <td>683.31</td>\n",
       "      <td>709.8</td>\n",
       "      <td>681.30</td>\n",
       "      <td>NaN</td>\n",
       "      <td>724.72</td>\n",
       "      <td>727.80</td>\n",
       "      <td>NaN</td>\n",
       "      <td>804.29</td>\n",
       "      <td>2019</td>\n",
       "    </tr>\n",
       "  </tbody>\n",
       "</table>\n",
       "</div>"
      ],
      "text/plain": [
       "   Día     Ene     Feb     Mar     Abr     May    Jun     Jul     Ago     Sep  \\\n",
       "0    1     NaN  657.81  651.79  678.53     NaN    NaN  679.15  700.82     NaN   \n",
       "1    2  694.77     NaN     NaN  672.56  678.71    NaN  677.62  704.88  720.20   \n",
       "2    3  697.09     NaN     NaN  670.05  683.31  709.8  681.30     NaN  724.72   \n",
       "\n",
       "      Oct  Nov     Dic  year  \n",
       "0  728.21  NaN     NaN  2019  \n",
       "1  729.38  NaN  812.13  2019  \n",
       "2  727.80  NaN  804.29  2019  "
      ]
     },
     "execution_count": 8,
     "metadata": {},
     "output_type": "execute_result"
    }
   ],
   "source": [
    "df1920_1.head(3)"
   ]
  },
  {
   "cell_type": "code",
   "execution_count": 9,
   "id": "8a88a06a",
   "metadata": {},
   "outputs": [
    {
     "data": {
      "text/html": [
       "<div>\n",
       "<style scoped>\n",
       "    .dataframe tbody tr th:only-of-type {\n",
       "        vertical-align: middle;\n",
       "    }\n",
       "\n",
       "    .dataframe tbody tr th {\n",
       "        vertical-align: top;\n",
       "    }\n",
       "\n",
       "    .dataframe thead th {\n",
       "        text-align: right;\n",
       "    }\n",
       "</style>\n",
       "<table border=\"1\" class=\"dataframe\">\n",
       "  <thead>\n",
       "    <tr style=\"text-align: right;\">\n",
       "      <th></th>\n",
       "      <th>year</th>\n",
       "      <th>Día</th>\n",
       "      <th>mes</th>\n",
       "      <th>valor</th>\n",
       "    </tr>\n",
       "  </thead>\n",
       "  <tbody>\n",
       "    <tr>\n",
       "      <th>0</th>\n",
       "      <td>2019</td>\n",
       "      <td>1</td>\n",
       "      <td>Ene</td>\n",
       "      <td>NaN</td>\n",
       "    </tr>\n",
       "    <tr>\n",
       "      <th>1</th>\n",
       "      <td>2019</td>\n",
       "      <td>2</td>\n",
       "      <td>Ene</td>\n",
       "      <td>694.77</td>\n",
       "    </tr>\n",
       "    <tr>\n",
       "      <th>2</th>\n",
       "      <td>2019</td>\n",
       "      <td>3</td>\n",
       "      <td>Ene</td>\n",
       "      <td>697.09</td>\n",
       "    </tr>\n",
       "  </tbody>\n",
       "</table>\n",
       "</div>"
      ],
      "text/plain": [
       "   year  Día  mes   valor\n",
       "0  2019    1  Ene     NaN\n",
       "1  2019    2  Ene  694.77\n",
       "2  2019    3  Ene  697.09"
      ]
     },
     "execution_count": 9,
     "metadata": {},
     "output_type": "execute_result"
    }
   ],
   "source": [
    "#generando el nuevo Dataframe con Melt\n",
    "\n",
    "df_1920_2 = pd.melt(df1920_1, id_vars=['year','Día'], value_vars=['Ene', 'Feb', 'Mar', 'Abr', 'May', 'Jun', 'Jul', 'Ago', 'Sep','Oct', 'Nov', 'Dic'], var_name = 'mes', value_name = 'valor')\n",
    "df_1920_2.head(3)"
   ]
  },
  {
   "cell_type": "code",
   "execution_count": 10,
   "id": "7e5ac7c4",
   "metadata": {},
   "outputs": [
    {
     "data": {
      "text/plain": [
       "Index(['year', 'Día', 'mes', 'valor'], dtype='object')"
      ]
     },
     "execution_count": 10,
     "metadata": {},
     "output_type": "execute_result"
    }
   ],
   "source": [
    "df_sii= df_1920_2\n",
    "df_sii.columns"
   ]
  },
  {
   "cell_type": "code",
   "execution_count": 11,
   "id": "b0222d9d",
   "metadata": {},
   "outputs": [],
   "source": [
    "df_sii = df_sii.reindex(columns=['year','mes','Día','valor'])"
   ]
  },
  {
   "cell_type": "code",
   "execution_count": 12,
   "id": "36d6fa8c",
   "metadata": {},
   "outputs": [
    {
     "name": "stdout",
     "output_type": "stream",
     "text": [
      "     year  mes  Día   valor\n",
      "0    2019  Ene    1     NaN\n",
      "1    2019  Ene    2  694.77\n",
      "2    2019  Ene    3  697.09\n",
      "3    2019  Ene    4  697.64\n",
      "4    2019  Ene    5     NaN\n",
      "..    ...  ...  ...     ...\n",
      "739  2020  Dic   27     NaN\n",
      "740  2020  Dic   28  710.26\n",
      "741  2020  Dic   29  710.64\n",
      "742  2020  Dic   30  711.24\n",
      "743  2020  Dic   31     NaN\n",
      "\n",
      "[744 rows x 4 columns]\n"
     ]
    }
   ],
   "source": [
    "print(df_sii)"
   ]
  },
  {
   "cell_type": "code",
   "execution_count": 13,
   "id": "991cf1b5",
   "metadata": {},
   "outputs": [],
   "source": [
    "#Guardando el archivo df_sii.csv\n",
    "\n",
    "df_sii.to_csv('df_sii.csv')"
   ]
  },
  {
   "cell_type": "markdown",
   "id": "c34c9413",
   "metadata": {},
   "source": [
    "### Usando el método groupby en df_sii:\n",
    "\n",
    "Agrupa por mes, con el argumento as_index = True y usando el método aggregate con el método mean, imprime el resultado. Agrupa por [year, mes], con el argumento as_index = False y usando el método agg con el método mean, imprime el resultado Compara ambos resultados. ¿Qué cambia al usar as_index = False? ¿Al agrupar por mes, con respecto a [year,mes]?"
   ]
  },
  {
   "cell_type": "code",
   "execution_count": 14,
   "id": "fc23e306",
   "metadata": {},
   "outputs": [],
   "source": [
    "#Agrupando los datos por mes, index True\n",
    "\n",
    "df_sii_mes= df_sii.groupby('mes', as_index= True).aggregate(['mean'])"
   ]
  },
  {
   "cell_type": "code",
   "execution_count": 15,
   "id": "3cf1217f",
   "metadata": {},
   "outputs": [
    {
     "name": "stdout",
     "output_type": "stream",
     "text": [
      "       year   Día       valor\n",
      "       mean  mean        mean\n",
      "mes                          \n",
      "Abr  2019.5  16.0  760.389048\n",
      "Ago  2019.5  16.0  749.182619\n",
      "Dic  2019.5  16.0  752.561750\n",
      "Ene  2019.5  16.0  724.854773\n",
      "Feb  2019.5  16.0  726.342000\n",
      "Jul  2019.5  16.0  735.394318\n",
      "Jun  2019.5  16.0  744.299024\n",
      "Mar  2019.5  16.0  755.523488\n",
      "May  2019.5  16.0  753.659500\n",
      "Nov  2019.5  16.0  769.540976\n",
      "Oct  2019.5  16.0  753.867907\n",
      "Sep  2019.5  16.0  748.036154\n"
     ]
    }
   ],
   "source": [
    "print(df_sii_mes)"
   ]
  },
  {
   "cell_type": "code",
   "execution_count": 16,
   "id": "815386f0",
   "metadata": {},
   "outputs": [],
   "source": [
    "#Agrupando por año y mes, index False\n",
    "\n",
    "df_sii_year_mes= df_sii.groupby(['year','mes'], as_index= False).aggregate(['mean'])"
   ]
  },
  {
   "cell_type": "code",
   "execution_count": 17,
   "id": "6d16c6f3",
   "metadata": {},
   "outputs": [
    {
     "name": "stdout",
     "output_type": "stream",
     "text": [
      "           Día       valor\n",
      "          mean        mean\n",
      "year mes                  \n",
      "2019 Abr  16.0  667.399048\n",
      "     Ago  16.0  713.703333\n",
      "     Dic  16.0  770.390500\n",
      "     Ene  16.0  677.061818\n",
      "     Feb  16.0  656.304500\n",
      "     Jul  16.0  686.059545\n",
      "     Jun  16.0  692.409000\n",
      "     Mar  16.0  667.678571\n",
      "     May  16.0  692.003810\n",
      "     Nov  16.0  776.530000\n",
      "     Oct  16.0  721.032273\n",
      "     Sep  16.0  718.442222\n",
      "2020 Abr  16.0  853.379048\n",
      "     Ago  16.0  784.661905\n",
      "     Dic  16.0  734.733000\n",
      "     Ene  16.0  772.647727\n",
      "     Feb  16.0  796.379500\n",
      "     Jul  16.0  784.729091\n",
      "     Jun  16.0  793.718095\n",
      "     Mar  16.0  839.375455\n",
      "     May  16.0  821.805263\n",
      "     Nov  16.0  762.884762\n",
      "     Oct  16.0  788.267143\n",
      "     Sep  16.0  773.402381\n"
     ]
    }
   ],
   "source": [
    "print(df_sii_year_mes)"
   ]
  },
  {
   "cell_type": "markdown",
   "id": "6f76e809",
   "metadata": {},
   "source": [
    "### Respuesta"
   ]
  },
  {
   "cell_type": "markdown",
   "id": "47e5abf3",
   "metadata": {},
   "source": [
    "En df_sii_mes el mes representa el indice del df, se agrupan los datos por los meses y en el resto de los parametros los valores se promedian\n",
    "en df_sii_year_mes se agrupa por año y mes  y se cra un indice multiple, el resto de los parametros que se promedian "
   ]
  },
  {
   "cell_type": "code",
   "execution_count": 18,
   "id": "d699498f",
   "metadata": {},
   "outputs": [],
   "source": [
    "#Agrupando por mes index false\n",
    "\n",
    "df_sii_mes_2= df_sii.groupby('mes', as_index= False).aggregate(['mean'])"
   ]
  },
  {
   "cell_type": "code",
   "execution_count": 19,
   "id": "7701b8bf",
   "metadata": {},
   "outputs": [
    {
     "name": "stdout",
     "output_type": "stream",
     "text": [
      "       year   Día       valor\n",
      "       mean  mean        mean\n",
      "mes                          \n",
      "Abr  2019.5  16.0  760.389048\n",
      "Ago  2019.5  16.0  749.182619\n",
      "Dic  2019.5  16.0  752.561750\n",
      "Ene  2019.5  16.0  724.854773\n",
      "Feb  2019.5  16.0  726.342000\n",
      "Jul  2019.5  16.0  735.394318\n",
      "Jun  2019.5  16.0  744.299024\n",
      "Mar  2019.5  16.0  755.523488\n",
      "May  2019.5  16.0  753.659500\n",
      "Nov  2019.5  16.0  769.540976\n",
      "Oct  2019.5  16.0  753.867907\n",
      "Sep  2019.5  16.0  748.036154\n"
     ]
    }
   ],
   "source": [
    "print(df_sii_mes_2)"
   ]
  },
  {
   "cell_type": "markdown",
   "id": "515878e1",
   "metadata": {},
   "source": [
    "### ¿Qué cambia al usar as_index = False? ¿Al agrupar por mes, con respecto a [year,mes]?\n",
    "que se agrupa por el mes y el index solo tiene un nivel, el mes. Todos los parametros que quedan son promediados"
   ]
  },
  {
   "cell_type": "markdown",
   "id": "048137bc",
   "metadata": {},
   "source": [
    "### ¿Qué podrías inferir de los missing values y los días hábiles? Úsalos para crear una nueva variable llamada dia_de_la_semana en df_sii con valores \"Lunes\", \"Martes\", \"Miércoles\", \"Jueves\", \"Viernes\", \"Sábado\", \"Domingo\"."
   ]
  },
  {
   "cell_type": "code",
   "execution_count": 20,
   "id": "e7208a50",
   "metadata": {},
   "outputs": [],
   "source": [
    "#Al revisar el Dataframe aparecen días que no existen en el calendario y deben ser eliminados para poder poner el día de la semana\n",
    "#de forma correcta\n",
    "\n",
    "df_feb = df_sii[ (df_sii['mes'] =='Feb') & (df_sii['Día'] >= 29)]\n",
    "df_ab = df_sii[ (df_sii['mes'] =='Abr') & (df_sii['Día'] >= 31)]\n",
    "df_jun = df_sii[ (df_sii['mes'] =='Jun') & (df_sii['Día'] >= 31)]\n",
    "df_sep = df_sii[ (df_sii['mes'] =='Sep') & (df_sii['Día'] >= 31)]\n",
    "df_nov = df_sii[ (df_sii['mes'] =='Nov') & (df_sii['Día'] >= 31)]"
   ]
  },
  {
   "cell_type": "code",
   "execution_count": 21,
   "id": "f4b70341",
   "metadata": {},
   "outputs": [],
   "source": [
    "#Eliminando las filas del dataframe de días que no existen en el calendario (creando df_sii_fil1)\n",
    "\n",
    "df_sii_fil1= df_sii.drop(df_sii.index[[90, 91, 92, 122, 123, 216, 247, 340, 371, 526, 557, 650, 681]])"
   ]
  },
  {
   "cell_type": "code",
   "execution_count": 22,
   "id": "ca6ce6b3",
   "metadata": {},
   "outputs": [
    {
     "name": "stdout",
     "output_type": "stream",
     "text": [
      "731\n"
     ]
    },
    {
     "data": {
      "text/html": [
       "<div>\n",
       "<style scoped>\n",
       "    .dataframe tbody tr th:only-of-type {\n",
       "        vertical-align: middle;\n",
       "    }\n",
       "\n",
       "    .dataframe tbody tr th {\n",
       "        vertical-align: top;\n",
       "    }\n",
       "\n",
       "    .dataframe thead th {\n",
       "        text-align: right;\n",
       "    }\n",
       "</style>\n",
       "<table border=\"1\" class=\"dataframe\">\n",
       "  <thead>\n",
       "    <tr style=\"text-align: right;\">\n",
       "      <th></th>\n",
       "      <th>year</th>\n",
       "      <th>mes</th>\n",
       "      <th>Día</th>\n",
       "      <th>valor</th>\n",
       "    </tr>\n",
       "  </thead>\n",
       "  <tbody>\n",
       "    <tr>\n",
       "      <th>0</th>\n",
       "      <td>2019</td>\n",
       "      <td>1</td>\n",
       "      <td>1</td>\n",
       "      <td>NaN</td>\n",
       "    </tr>\n",
       "    <tr>\n",
       "      <th>1</th>\n",
       "      <td>2019</td>\n",
       "      <td>1</td>\n",
       "      <td>2</td>\n",
       "      <td>694.77</td>\n",
       "    </tr>\n",
       "    <tr>\n",
       "      <th>2</th>\n",
       "      <td>2019</td>\n",
       "      <td>1</td>\n",
       "      <td>3</td>\n",
       "      <td>697.09</td>\n",
       "    </tr>\n",
       "  </tbody>\n",
       "</table>\n",
       "</div>"
      ],
      "text/plain": [
       "   year mes  Día   valor\n",
       "0  2019   1    1     NaN\n",
       "1  2019   1    2  694.77\n",
       "2  2019   1    3  697.09"
      ]
     },
     "execution_count": 22,
     "metadata": {},
     "output_type": "execute_result"
    }
   ],
   "source": [
    "#Cambiando los nombres de los meses del año por el número correspondiente al mes en df_sii(df_sii_fil2)\n",
    "\n",
    "df_sii_fil2= df_sii_fil1.replace(['Ene','Feb','Mar','Abr','May','Jun','Jul','Ago','Sep','Oct','Nov','Dic'],['1','2','3','4','5','6','7','8','9','10','11','12'])\n",
    "print(len(df_sii_fil2))\n",
    "df_sii_fil2.head(3)"
   ]
  },
  {
   "cell_type": "code",
   "execution_count": 23,
   "id": "70d9ff09",
   "metadata": {},
   "outputs": [
    {
     "name": "stdout",
     "output_type": "stream",
     "text": [
      "731\n"
     ]
    },
    {
     "data": {
      "text/html": [
       "<div>\n",
       "<style scoped>\n",
       "    .dataframe tbody tr th:only-of-type {\n",
       "        vertical-align: middle;\n",
       "    }\n",
       "\n",
       "    .dataframe tbody tr th {\n",
       "        vertical-align: top;\n",
       "    }\n",
       "\n",
       "    .dataframe thead th {\n",
       "        text-align: right;\n",
       "    }\n",
       "</style>\n",
       "<table border=\"1\" class=\"dataframe\">\n",
       "  <thead>\n",
       "    <tr style=\"text-align: right;\">\n",
       "      <th></th>\n",
       "      <th>year</th>\n",
       "      <th>mes</th>\n",
       "      <th>Día</th>\n",
       "      <th>valor</th>\n",
       "      <th>Dates</th>\n",
       "    </tr>\n",
       "  </thead>\n",
       "  <tbody>\n",
       "    <tr>\n",
       "      <th>0</th>\n",
       "      <td>2019</td>\n",
       "      <td>1</td>\n",
       "      <td>1</td>\n",
       "      <td>NaN</td>\n",
       "      <td>2019-1-1</td>\n",
       "    </tr>\n",
       "    <tr>\n",
       "      <th>1</th>\n",
       "      <td>2019</td>\n",
       "      <td>1</td>\n",
       "      <td>2</td>\n",
       "      <td>694.77</td>\n",
       "      <td>2019-1-2</td>\n",
       "    </tr>\n",
       "    <tr>\n",
       "      <th>2</th>\n",
       "      <td>2019</td>\n",
       "      <td>1</td>\n",
       "      <td>3</td>\n",
       "      <td>697.09</td>\n",
       "      <td>2019-1-3</td>\n",
       "    </tr>\n",
       "  </tbody>\n",
       "</table>\n",
       "</div>"
      ],
      "text/plain": [
       "   year mes  Día   valor     Dates\n",
       "0  2019   1    1     NaN  2019-1-1\n",
       "1  2019   1    2  694.77  2019-1-2\n",
       "2  2019   1    3  697.09  2019-1-3"
      ]
     },
     "execution_count": 23,
     "metadata": {},
     "output_type": "execute_result"
    }
   ],
   "source": [
    "#Creando columna fecha en df-sii_fil2\n",
    "\n",
    "df_sii_fil2['Dates'] = df_sii_fil2['year'].astype(str)+'-'+ df_sii_fil2['mes'].astype(str) +'-'+ df_sii_fil2['Día'].astype(str)\n",
    "print(len(df_sii_fil2))\n",
    "df_sii_fil2.head(3)"
   ]
  },
  {
   "cell_type": "code",
   "execution_count": 24,
   "id": "bf19cda4",
   "metadata": {},
   "outputs": [
    {
     "data": {
      "text/plain": [
       "731"
      ]
     },
     "execution_count": 24,
     "metadata": {},
     "output_type": "execute_result"
    }
   ],
   "source": [
    "#Encontrando los días de la semana por la fecha\n",
    "\n",
    "def date (Dates):\n",
    "    for date in df_sii_fil2:\n",
    "        date = pd.DataFrame({'inputDate': df_sii_fil2['Dates']}) \n",
    "        date['inputDate'] = pd.to_datetime(date['inputDate']) \n",
    "        date['dayOfWeek'] = date['inputDate'].dt.day_name() \n",
    "        \n",
    "        return (date)\n",
    "        \n",
    "dias_de_la_semana_sii= date(df_sii_fil2.Dates)\n",
    "len(dias_de_la_semana_sii)"
   ]
  },
  {
   "cell_type": "code",
   "execution_count": 25,
   "id": "b06c0b5f",
   "metadata": {},
   "outputs": [
    {
     "data": {
      "text/plain": [
       "731"
      ]
     },
     "execution_count": 25,
     "metadata": {},
     "output_type": "execute_result"
    }
   ],
   "source": [
    "#Creando columna de dia de la semana para df_sii\n",
    "\n",
    "dias_sii=dias_de_la_semana_sii.rename(columns={'dayOfWeek':'dias_de_la_semana'})\n",
    "dias_sii=dias_sii.replace(['Monday','Tuesday','Wednesday','Thursday','Friday','Saturday', 'Sunday'],['Lunes',  'Martes',  'Miércoles', \n",
    "                   'Jueves',  'Viernes',  'Sábado',  'Domingo'])\n",
    "len(dias_sii)"
   ]
  },
  {
   "cell_type": "code",
   "execution_count": 26,
   "id": "fb23832f",
   "metadata": {},
   "outputs": [
    {
     "data": {
      "text/html": [
       "<div>\n",
       "<style scoped>\n",
       "    .dataframe tbody tr th:only-of-type {\n",
       "        vertical-align: middle;\n",
       "    }\n",
       "\n",
       "    .dataframe tbody tr th {\n",
       "        vertical-align: top;\n",
       "    }\n",
       "\n",
       "    .dataframe thead th {\n",
       "        text-align: right;\n",
       "    }\n",
       "</style>\n",
       "<table border=\"1\" class=\"dataframe\">\n",
       "  <thead>\n",
       "    <tr style=\"text-align: right;\">\n",
       "      <th></th>\n",
       "      <th>year</th>\n",
       "      <th>mes</th>\n",
       "      <th>Día</th>\n",
       "      <th>valor</th>\n",
       "      <th>Dates</th>\n",
       "      <th>dias_de_la_semana</th>\n",
       "    </tr>\n",
       "  </thead>\n",
       "  <tbody>\n",
       "    <tr>\n",
       "      <th>0</th>\n",
       "      <td>2019</td>\n",
       "      <td>1</td>\n",
       "      <td>1</td>\n",
       "      <td>NaN</td>\n",
       "      <td>2019-1-1</td>\n",
       "      <td>Martes</td>\n",
       "    </tr>\n",
       "    <tr>\n",
       "      <th>1</th>\n",
       "      <td>2019</td>\n",
       "      <td>1</td>\n",
       "      <td>2</td>\n",
       "      <td>694.77</td>\n",
       "      <td>2019-1-2</td>\n",
       "      <td>Miércoles</td>\n",
       "    </tr>\n",
       "    <tr>\n",
       "      <th>2</th>\n",
       "      <td>2019</td>\n",
       "      <td>1</td>\n",
       "      <td>3</td>\n",
       "      <td>697.09</td>\n",
       "      <td>2019-1-3</td>\n",
       "      <td>Jueves</td>\n",
       "    </tr>\n",
       "  </tbody>\n",
       "</table>\n",
       "</div>"
      ],
      "text/plain": [
       "   year mes  Día   valor     Dates dias_de_la_semana\n",
       "0  2019   1    1     NaN  2019-1-1            Martes\n",
       "1  2019   1    2  694.77  2019-1-2         Miércoles\n",
       "2  2019   1    3  697.09  2019-1-3            Jueves"
      ]
     },
     "execution_count": 26,
     "metadata": {},
     "output_type": "execute_result"
    }
   ],
   "source": [
    "#Agregando la columna dia de la semana por fecha\n",
    "\n",
    "lista_dias_sii= dias_sii['dias_de_la_semana'].tolist()\n",
    "\n",
    "df_sii_fil2['dias_de_la_semana']= lista_dias_sii\n",
    "df_sii_fil2.head(3)"
   ]
  },
  {
   "cell_type": "code",
   "execution_count": 27,
   "id": "d57938f1",
   "metadata": {},
   "outputs": [
    {
     "data": {
      "text/html": [
       "<div>\n",
       "<style scoped>\n",
       "    .dataframe tbody tr th:only-of-type {\n",
       "        vertical-align: middle;\n",
       "    }\n",
       "\n",
       "    .dataframe tbody tr th {\n",
       "        vertical-align: top;\n",
       "    }\n",
       "\n",
       "    .dataframe thead th {\n",
       "        text-align: right;\n",
       "    }\n",
       "</style>\n",
       "<table border=\"1\" class=\"dataframe\">\n",
       "  <thead>\n",
       "    <tr style=\"text-align: right;\">\n",
       "      <th></th>\n",
       "      <th>year</th>\n",
       "      <th>mes</th>\n",
       "      <th>Día</th>\n",
       "      <th>valor</th>\n",
       "      <th>dias_de_la_semana</th>\n",
       "    </tr>\n",
       "  </thead>\n",
       "  <tbody>\n",
       "    <tr>\n",
       "      <th>0</th>\n",
       "      <td>2019</td>\n",
       "      <td>1</td>\n",
       "      <td>1</td>\n",
       "      <td>NaN</td>\n",
       "      <td>Martes</td>\n",
       "    </tr>\n",
       "    <tr>\n",
       "      <th>1</th>\n",
       "      <td>2019</td>\n",
       "      <td>1</td>\n",
       "      <td>2</td>\n",
       "      <td>694.77</td>\n",
       "      <td>Miércoles</td>\n",
       "    </tr>\n",
       "    <tr>\n",
       "      <th>2</th>\n",
       "      <td>2019</td>\n",
       "      <td>1</td>\n",
       "      <td>3</td>\n",
       "      <td>697.09</td>\n",
       "      <td>Jueves</td>\n",
       "    </tr>\n",
       "  </tbody>\n",
       "</table>\n",
       "</div>"
      ],
      "text/plain": [
       "   year mes  Día   valor dias_de_la_semana\n",
       "0  2019   1    1     NaN            Martes\n",
       "1  2019   1    2  694.77         Miércoles\n",
       "2  2019   1    3  697.09            Jueves"
      ]
     },
     "execution_count": 27,
     "metadata": {},
     "output_type": "execute_result"
    }
   ],
   "source": [
    "df_sii_dias_final= df_sii_fil2.drop(columns=['Dates'])\n",
    "df_sii_dias_final.head(3)"
   ]
  },
  {
   "cell_type": "code",
   "execution_count": 28,
   "id": "b7dde97d",
   "metadata": {},
   "outputs": [
    {
     "data": {
      "text/plain": [
       "False    731\n",
       "dtype: int64"
      ]
     },
     "execution_count": 28,
     "metadata": {},
     "output_type": "execute_result"
    }
   ],
   "source": [
    "df_sii_fil2.duplicated().value_counts()"
   ]
  },
  {
   "cell_type": "markdown",
   "id": "14ccf113",
   "metadata": {},
   "source": [
    "### Respuesta:"
   ]
  },
  {
   "cell_type": "markdown",
   "id": "5f7870ec",
   "metadata": {},
   "source": [
    "##### Que los missing values corresponden a días feriados o festivos."
   ]
  },
  {
   "cell_type": "markdown",
   "id": "2a4abc7b",
   "metadata": {},
   "source": [
    "Explora el archivo dolar_observado_bc.xlsx y su estructura."
   ]
  },
  {
   "cell_type": "code",
   "execution_count": 29,
   "id": "cd9fea19",
   "metadata": {},
   "outputs": [],
   "source": [
    "df_dolar_observado_80=pd.read_excel(\"C:/Users/drasu/Documents/Analisis de Datos/Tarea_1_parte_3/dolar_observado_bc.xlsx\", sheet_name='80')\n",
    "df_dolar_observado_90=pd.read_excel(\"C:/Users/drasu/Documents/Analisis de Datos/Tarea_1_parte_3/dolar_observado_bc.xlsx\", sheet_name='90')\n",
    "df_dolar_observado_00=pd.read_excel(\"C:/Users/drasu/Documents/Analisis de Datos/Tarea_1_parte_3/dolar_observado_bc.xlsx\", sheet_name='00')\n",
    "df_dolar_observado_10=pd.read_excel(\"C:/Users/drasu/Documents/Analisis de Datos/Tarea_1_parte_3/dolar_observado_bc.xlsx\", sheet_name='10')\n",
    "df_dolar_observado_20=pd.read_excel(\"C:/Users/drasu/Documents/Analisis de Datos/Tarea_1_parte_3/dolar_observado_bc.xlsx\", sheet_name='20')\n"
   ]
  },
  {
   "cell_type": "markdown",
   "id": "1ae30f0a",
   "metadata": {},
   "source": [
    "Lee cada hoja por separado con read_excel, usando los argumentos skiprows=2, dtype={'Periodo':str }"
   ]
  },
  {
   "cell_type": "code",
   "execution_count": 30,
   "id": "a1b58af9",
   "metadata": {},
   "outputs": [],
   "source": [
    "df_dolar_observado_80=pd.read_excel(\"C:/Users/drasu/Documents/Analisis de Datos/Tarea_1_parte_3/dolar_observado_bc.xlsx\", sheet_name='80',skiprows= 2, dtype={'Periodo':str })\n",
    "df_dolar_observado_90=pd.read_excel(\"C:/Users/drasu/Documents/Analisis de Datos/Tarea_1_parte_3/dolar_observado_bc.xlsx\", sheet_name='90',skiprows= 2, dtype={'Periodo':str })\n",
    "df_dolar_observado_00=pd.read_excel(\"C:/Users/drasu/Documents/Analisis de Datos/Tarea_1_parte_3/dolar_observado_bc.xlsx\", sheet_name='00',skiprows= 2, dtype={'Periodo':str })\n",
    "df_dolar_observado_10=pd.read_excel(\"C:/Users/drasu/Documents/Analisis de Datos/Tarea_1_parte_3/dolar_observado_bc.xlsx\", sheet_name='10',skiprows= 2, dtype={'Periodo':str })\n",
    "df_dolar_observado_20=pd.read_excel(\"C:/Users/drasu/Documents/Analisis de Datos/Tarea_1_parte_3/dolar_observado_bc.xlsx\", sheet_name='20',skiprows= 2, dtype={'Periodo':str })\n"
   ]
  },
  {
   "cell_type": "code",
   "execution_count": 31,
   "id": "51e3e29d",
   "metadata": {},
   "outputs": [
    {
     "data": {
      "text/html": [
       "<div>\n",
       "<style scoped>\n",
       "    .dataframe tbody tr th:only-of-type {\n",
       "        vertical-align: middle;\n",
       "    }\n",
       "\n",
       "    .dataframe tbody tr th {\n",
       "        vertical-align: top;\n",
       "    }\n",
       "\n",
       "    .dataframe thead th {\n",
       "        text-align: right;\n",
       "    }\n",
       "</style>\n",
       "<table border=\"1\" class=\"dataframe\">\n",
       "  <thead>\n",
       "    <tr style=\"text-align: right;\">\n",
       "      <th></th>\n",
       "      <th>Periodo</th>\n",
       "      <th>1.Dólar observado</th>\n",
       "    </tr>\n",
       "  </thead>\n",
       "  <tbody>\n",
       "    <tr>\n",
       "      <th>0</th>\n",
       "      <td>1982-08-09 00:00:00</td>\n",
       "      <td>55.65</td>\n",
       "    </tr>\n",
       "    <tr>\n",
       "      <th>1</th>\n",
       "      <td>1982-08-10 00:00:00</td>\n",
       "      <td>62.79</td>\n",
       "    </tr>\n",
       "    <tr>\n",
       "      <th>2</th>\n",
       "      <td>1982-08-11 00:00:00</td>\n",
       "      <td>64.07</td>\n",
       "    </tr>\n",
       "  </tbody>\n",
       "</table>\n",
       "</div>"
      ],
      "text/plain": [
       "               Periodo  1.Dólar observado\n",
       "0  1982-08-09 00:00:00              55.65\n",
       "1  1982-08-10 00:00:00              62.79\n",
       "2  1982-08-11 00:00:00              64.07"
      ]
     },
     "execution_count": 31,
     "metadata": {},
     "output_type": "execute_result"
    }
   ],
   "source": [
    "df_dolar_observado_80.head(3)"
   ]
  },
  {
   "cell_type": "code",
   "execution_count": 32,
   "id": "53b095aa",
   "metadata": {},
   "outputs": [
    {
     "name": "stdout",
     "output_type": "stream",
     "text": [
      "<class 'pandas.core.frame.DataFrame'>\n",
      "RangeIndex: 2702 entries, 0 to 2701\n",
      "Data columns (total 2 columns):\n",
      " #   Column             Non-Null Count  Dtype  \n",
      "---  ------             --------------  -----  \n",
      " 0   Periodo            2702 non-null   object \n",
      " 1   1.Dólar observado  1848 non-null   float64\n",
      "dtypes: float64(1), object(1)\n",
      "memory usage: 42.3+ KB\n"
     ]
    }
   ],
   "source": [
    "df_dolar_observado_80.info()"
   ]
  },
  {
   "cell_type": "code",
   "execution_count": 33,
   "id": "9df2fcca",
   "metadata": {},
   "outputs": [
    {
     "data": {
      "text/html": [
       "<div>\n",
       "<style scoped>\n",
       "    .dataframe tbody tr th:only-of-type {\n",
       "        vertical-align: middle;\n",
       "    }\n",
       "\n",
       "    .dataframe tbody tr th {\n",
       "        vertical-align: top;\n",
       "    }\n",
       "\n",
       "    .dataframe thead th {\n",
       "        text-align: right;\n",
       "    }\n",
       "</style>\n",
       "<table border=\"1\" class=\"dataframe\">\n",
       "  <thead>\n",
       "    <tr style=\"text-align: right;\">\n",
       "      <th></th>\n",
       "      <th>Periodo</th>\n",
       "      <th>1.Dólar observado</th>\n",
       "    </tr>\n",
       "  </thead>\n",
       "  <tbody>\n",
       "    <tr>\n",
       "      <th>0</th>\n",
       "      <td>1990-01-01 00:00:00</td>\n",
       "      <td>NaN</td>\n",
       "    </tr>\n",
       "    <tr>\n",
       "      <th>1</th>\n",
       "      <td>1990-01-02 00:00:00</td>\n",
       "      <td>297.37</td>\n",
       "    </tr>\n",
       "    <tr>\n",
       "      <th>2</th>\n",
       "      <td>1990-01-03 00:00:00</td>\n",
       "      <td>297.32</td>\n",
       "    </tr>\n",
       "  </tbody>\n",
       "</table>\n",
       "</div>"
      ],
      "text/plain": [
       "               Periodo  1.Dólar observado\n",
       "0  1990-01-01 00:00:00                NaN\n",
       "1  1990-01-02 00:00:00             297.37\n",
       "2  1990-01-03 00:00:00             297.32"
      ]
     },
     "execution_count": 33,
     "metadata": {},
     "output_type": "execute_result"
    }
   ],
   "source": [
    "df_dolar_observado_90.head(3)"
   ]
  },
  {
   "cell_type": "code",
   "execution_count": 34,
   "id": "bd634bc7",
   "metadata": {},
   "outputs": [
    {
     "data": {
      "text/html": [
       "<div>\n",
       "<style scoped>\n",
       "    .dataframe tbody tr th:only-of-type {\n",
       "        vertical-align: middle;\n",
       "    }\n",
       "\n",
       "    .dataframe tbody tr th {\n",
       "        vertical-align: top;\n",
       "    }\n",
       "\n",
       "    .dataframe thead th {\n",
       "        text-align: right;\n",
       "    }\n",
       "</style>\n",
       "<table border=\"1\" class=\"dataframe\">\n",
       "  <thead>\n",
       "    <tr style=\"text-align: right;\">\n",
       "      <th></th>\n",
       "      <th>Periodo</th>\n",
       "      <th>1.Dólar observado</th>\n",
       "    </tr>\n",
       "  </thead>\n",
       "  <tbody>\n",
       "    <tr>\n",
       "      <th>0</th>\n",
       "      <td>2000-01-01 00:00:00</td>\n",
       "      <td>NaN</td>\n",
       "    </tr>\n",
       "    <tr>\n",
       "      <th>1</th>\n",
       "      <td>2000-01-02 00:00:00</td>\n",
       "      <td>NaN</td>\n",
       "    </tr>\n",
       "    <tr>\n",
       "      <th>2</th>\n",
       "      <td>2000-01-03 00:00:00</td>\n",
       "      <td>530.07</td>\n",
       "    </tr>\n",
       "  </tbody>\n",
       "</table>\n",
       "</div>"
      ],
      "text/plain": [
       "               Periodo  1.Dólar observado\n",
       "0  2000-01-01 00:00:00                NaN\n",
       "1  2000-01-02 00:00:00                NaN\n",
       "2  2000-01-03 00:00:00             530.07"
      ]
     },
     "execution_count": 34,
     "metadata": {},
     "output_type": "execute_result"
    }
   ],
   "source": [
    "df_dolar_observado_00.head(3)"
   ]
  },
  {
   "cell_type": "code",
   "execution_count": 35,
   "id": "be852fd0",
   "metadata": {},
   "outputs": [
    {
     "data": {
      "text/html": [
       "<div>\n",
       "<style scoped>\n",
       "    .dataframe tbody tr th:only-of-type {\n",
       "        vertical-align: middle;\n",
       "    }\n",
       "\n",
       "    .dataframe tbody tr th {\n",
       "        vertical-align: top;\n",
       "    }\n",
       "\n",
       "    .dataframe thead th {\n",
       "        text-align: right;\n",
       "    }\n",
       "</style>\n",
       "<table border=\"1\" class=\"dataframe\">\n",
       "  <thead>\n",
       "    <tr style=\"text-align: right;\">\n",
       "      <th></th>\n",
       "      <th>Periodo</th>\n",
       "      <th>1.Dólar observado</th>\n",
       "    </tr>\n",
       "  </thead>\n",
       "  <tbody>\n",
       "    <tr>\n",
       "      <th>0</th>\n",
       "      <td>2010-01-01 00:00:00</td>\n",
       "      <td>NaN</td>\n",
       "    </tr>\n",
       "    <tr>\n",
       "      <th>1</th>\n",
       "      <td>2010-01-02 00:00:00</td>\n",
       "      <td>NaN</td>\n",
       "    </tr>\n",
       "    <tr>\n",
       "      <th>2</th>\n",
       "      <td>2010-01-03 00:00:00</td>\n",
       "      <td>NaN</td>\n",
       "    </tr>\n",
       "  </tbody>\n",
       "</table>\n",
       "</div>"
      ],
      "text/plain": [
       "               Periodo  1.Dólar observado\n",
       "0  2010-01-01 00:00:00                NaN\n",
       "1  2010-01-02 00:00:00                NaN\n",
       "2  2010-01-03 00:00:00                NaN"
      ]
     },
     "execution_count": 35,
     "metadata": {},
     "output_type": "execute_result"
    }
   ],
   "source": [
    "df_dolar_observado_10.head(3)"
   ]
  },
  {
   "cell_type": "code",
   "execution_count": 36,
   "id": "5365cc6f",
   "metadata": {},
   "outputs": [
    {
     "data": {
      "text/html": [
       "<div>\n",
       "<style scoped>\n",
       "    .dataframe tbody tr th:only-of-type {\n",
       "        vertical-align: middle;\n",
       "    }\n",
       "\n",
       "    .dataframe tbody tr th {\n",
       "        vertical-align: top;\n",
       "    }\n",
       "\n",
       "    .dataframe thead th {\n",
       "        text-align: right;\n",
       "    }\n",
       "</style>\n",
       "<table border=\"1\" class=\"dataframe\">\n",
       "  <thead>\n",
       "    <tr style=\"text-align: right;\">\n",
       "      <th></th>\n",
       "      <th>Periodo</th>\n",
       "      <th>1.Dólar observado</th>\n",
       "    </tr>\n",
       "  </thead>\n",
       "  <tbody>\n",
       "    <tr>\n",
       "      <th>0</th>\n",
       "      <td>2020-01-01 00:00:00</td>\n",
       "      <td>NaN</td>\n",
       "    </tr>\n",
       "    <tr>\n",
       "      <th>1</th>\n",
       "      <td>2020-01-02 00:00:00</td>\n",
       "      <td>748.74</td>\n",
       "    </tr>\n",
       "    <tr>\n",
       "      <th>2</th>\n",
       "      <td>2020-01-03 00:00:00</td>\n",
       "      <td>754.16</td>\n",
       "    </tr>\n",
       "  </tbody>\n",
       "</table>\n",
       "</div>"
      ],
      "text/plain": [
       "               Periodo  1.Dólar observado\n",
       "0  2020-01-01 00:00:00                NaN\n",
       "1  2020-01-02 00:00:00             748.74\n",
       "2  2020-01-03 00:00:00             754.16"
      ]
     },
     "execution_count": 36,
     "metadata": {},
     "output_type": "execute_result"
    }
   ],
   "source": [
    "df_dolar_observado_20.head(3)"
   ]
  },
  {
   "cell_type": "markdown",
   "id": "2d96db9b",
   "metadata": {},
   "source": [
    "### Crea un dataframe que una todos los dataframes en uno solo con las mismas columnas, y nombralo df_bc_all."
   ]
  },
  {
   "cell_type": "code",
   "execution_count": 37,
   "id": "e24e2310",
   "metadata": {},
   "outputs": [
    {
     "name": "stdout",
     "output_type": "stream",
     "text": [
      "<class 'pandas.core.frame.DataFrame'>\n",
      "Int64Index: 14633 entries, 0 to 973\n",
      "Data columns (total 2 columns):\n",
      " #   Column             Non-Null Count  Dtype  \n",
      "---  ------             --------------  -----  \n",
      " 0   Periodo            14633 non-null  object \n",
      " 1   1.Dólar observado  9997 non-null   float64\n",
      "dtypes: float64(1), object(1)\n",
      "memory usage: 343.0+ KB\n"
     ]
    }
   ],
   "source": [
    "#Creando Dataframe df_bc_all\n",
    "\n",
    "df_bc_all= pd.concat([df_dolar_observado_80, df_dolar_observado_90, df_dolar_observado_00, df_dolar_observado_10, df_dolar_observado_20])\n",
    "df_bc_all.info()"
   ]
  },
  {
   "cell_type": "code",
   "execution_count": 38,
   "id": "0b3f60b3",
   "metadata": {},
   "outputs": [
    {
     "data": {
      "text/html": [
       "<div>\n",
       "<style scoped>\n",
       "    .dataframe tbody tr th:only-of-type {\n",
       "        vertical-align: middle;\n",
       "    }\n",
       "\n",
       "    .dataframe tbody tr th {\n",
       "        vertical-align: top;\n",
       "    }\n",
       "\n",
       "    .dataframe thead th {\n",
       "        text-align: right;\n",
       "    }\n",
       "</style>\n",
       "<table border=\"1\" class=\"dataframe\">\n",
       "  <thead>\n",
       "    <tr style=\"text-align: right;\">\n",
       "      <th></th>\n",
       "      <th>Periodo</th>\n",
       "      <th>1.Dólar observado</th>\n",
       "      <th>Dates</th>\n",
       "      <th>Time</th>\n",
       "    </tr>\n",
       "  </thead>\n",
       "  <tbody>\n",
       "    <tr>\n",
       "      <th>0</th>\n",
       "      <td>1982-08-09 00:00:00</td>\n",
       "      <td>55.65</td>\n",
       "      <td>1982-08-09</td>\n",
       "      <td>00:00:00</td>\n",
       "    </tr>\n",
       "    <tr>\n",
       "      <th>1</th>\n",
       "      <td>1982-08-10 00:00:00</td>\n",
       "      <td>62.79</td>\n",
       "      <td>1982-08-10</td>\n",
       "      <td>00:00:00</td>\n",
       "    </tr>\n",
       "    <tr>\n",
       "      <th>2</th>\n",
       "      <td>1982-08-11 00:00:00</td>\n",
       "      <td>64.07</td>\n",
       "      <td>1982-08-11</td>\n",
       "      <td>00:00:00</td>\n",
       "    </tr>\n",
       "  </tbody>\n",
       "</table>\n",
       "</div>"
      ],
      "text/plain": [
       "               Periodo  1.Dólar observado       Dates      Time\n",
       "0  1982-08-09 00:00:00              55.65  1982-08-09  00:00:00\n",
       "1  1982-08-10 00:00:00              62.79  1982-08-10  00:00:00\n",
       "2  1982-08-11 00:00:00              64.07  1982-08-11  00:00:00"
      ]
     },
     "execution_count": 38,
     "metadata": {},
     "output_type": "execute_result"
    }
   ],
   "source": [
    "# Separando Perido en fecha(Dates) y tiempo (timne)\n",
    "\n",
    "df_bc_all['Dates'] = pd.to_datetime(df_bc_all['Periodo']).dt.date\n",
    "df_bc_all['Time'] = pd.to_datetime(df_bc_all['Periodo']).dt.time\n",
    "df_bc_all.head(3)"
   ]
  },
  {
   "cell_type": "code",
   "execution_count": 39,
   "id": "0843babc",
   "metadata": {},
   "outputs": [
    {
     "data": {
      "text/plain": [
       "14633"
      ]
     },
     "execution_count": 39,
     "metadata": {},
     "output_type": "execute_result"
    }
   ],
   "source": [
    "len(df_bc_all)"
   ]
  },
  {
   "cell_type": "code",
   "execution_count": 40,
   "id": "e511fd64",
   "metadata": {},
   "outputs": [
    {
     "data": {
      "text/html": [
       "<div>\n",
       "<style scoped>\n",
       "    .dataframe tbody tr th:only-of-type {\n",
       "        vertical-align: middle;\n",
       "    }\n",
       "\n",
       "    .dataframe tbody tr th {\n",
       "        vertical-align: top;\n",
       "    }\n",
       "\n",
       "    .dataframe thead th {\n",
       "        text-align: right;\n",
       "    }\n",
       "</style>\n",
       "<table border=\"1\" class=\"dataframe\">\n",
       "  <thead>\n",
       "    <tr style=\"text-align: right;\">\n",
       "      <th></th>\n",
       "      <th>inputDate</th>\n",
       "      <th>dayOfWeek</th>\n",
       "    </tr>\n",
       "  </thead>\n",
       "  <tbody>\n",
       "    <tr>\n",
       "      <th>0</th>\n",
       "      <td>1982-08-09</td>\n",
       "      <td>Monday</td>\n",
       "    </tr>\n",
       "    <tr>\n",
       "      <th>1</th>\n",
       "      <td>1982-08-10</td>\n",
       "      <td>Tuesday</td>\n",
       "    </tr>\n",
       "    <tr>\n",
       "      <th>2</th>\n",
       "      <td>1982-08-11</td>\n",
       "      <td>Wednesday</td>\n",
       "    </tr>\n",
       "  </tbody>\n",
       "</table>\n",
       "</div>"
      ],
      "text/plain": [
       "   inputDate  dayOfWeek\n",
       "0 1982-08-09     Monday\n",
       "1 1982-08-10    Tuesday\n",
       "2 1982-08-11  Wednesday"
      ]
     },
     "execution_count": 40,
     "metadata": {},
     "output_type": "execute_result"
    }
   ],
   "source": [
    "# Creando los días de la semana a partir de la fecha\n",
    "\n",
    "def date (Dates):\n",
    "    for date in df_bc_all:\n",
    "        date = pd.DataFrame({'inputDate':df_bc_all['Dates']}) \n",
    "        date['inputDate'] = pd.to_datetime(date['inputDate']) \n",
    "        date['dayOfWeek'] = date['inputDate'].dt.day_name() \n",
    "        return (date)\n",
    "\n",
    "    \n",
    "dias_de_la_semana= date(df_bc_all.Dates)\n",
    "dias_de_la_semana.head(3)"
   ]
  },
  {
   "cell_type": "code",
   "execution_count": 41,
   "id": "56ccbfda",
   "metadata": {},
   "outputs": [
    {
     "data": {
      "text/html": [
       "<div>\n",
       "<style scoped>\n",
       "    .dataframe tbody tr th:only-of-type {\n",
       "        vertical-align: middle;\n",
       "    }\n",
       "\n",
       "    .dataframe tbody tr th {\n",
       "        vertical-align: top;\n",
       "    }\n",
       "\n",
       "    .dataframe thead th {\n",
       "        text-align: right;\n",
       "    }\n",
       "</style>\n",
       "<table border=\"1\" class=\"dataframe\">\n",
       "  <thead>\n",
       "    <tr style=\"text-align: right;\">\n",
       "      <th></th>\n",
       "      <th>inputDate</th>\n",
       "      <th>dayOfWeek</th>\n",
       "    </tr>\n",
       "  </thead>\n",
       "  <tbody>\n",
       "    <tr>\n",
       "      <th>0</th>\n",
       "      <td>1982-08-09</td>\n",
       "      <td>Lunes</td>\n",
       "    </tr>\n",
       "    <tr>\n",
       "      <th>1</th>\n",
       "      <td>1982-08-10</td>\n",
       "      <td>Martes</td>\n",
       "    </tr>\n",
       "    <tr>\n",
       "      <th>2</th>\n",
       "      <td>1982-08-11</td>\n",
       "      <td>Miércoles</td>\n",
       "    </tr>\n",
       "  </tbody>\n",
       "</table>\n",
       "</div>"
      ],
      "text/plain": [
       "   inputDate  dayOfWeek\n",
       "0 1982-08-09      Lunes\n",
       "1 1982-08-10     Martes\n",
       "2 1982-08-11  Miércoles"
      ]
     },
     "execution_count": 41,
     "metadata": {},
     "output_type": "execute_result"
    }
   ],
   "source": [
    "#Reemplazando los días de la semana desde el ingles al español\n",
    "\n",
    "dias_de_la_semana=dias_de_la_semana.replace(['Monday','Tuesday','Wednesday','Thursday','Friday','Saturday', 'Sunday'],['Lunes',  'Martes',  'Miércoles', \n",
    "                   'Jueves',  'Viernes',  'Sábado',  'Domingo'])\n",
    "dias_de_la_semana.head(3)"
   ]
  },
  {
   "cell_type": "code",
   "execution_count": 42,
   "id": "8070df82",
   "metadata": {},
   "outputs": [
    {
     "data": {
      "text/html": [
       "<div>\n",
       "<style scoped>\n",
       "    .dataframe tbody tr th:only-of-type {\n",
       "        vertical-align: middle;\n",
       "    }\n",
       "\n",
       "    .dataframe tbody tr th {\n",
       "        vertical-align: top;\n",
       "    }\n",
       "\n",
       "    .dataframe thead th {\n",
       "        text-align: right;\n",
       "    }\n",
       "</style>\n",
       "<table border=\"1\" class=\"dataframe\">\n",
       "  <thead>\n",
       "    <tr style=\"text-align: right;\">\n",
       "      <th></th>\n",
       "      <th>Periodo</th>\n",
       "      <th>1.Dólar observado</th>\n",
       "      <th>Dates</th>\n",
       "      <th>Time</th>\n",
       "      <th>year</th>\n",
       "      <th>mes</th>\n",
       "      <th>Día</th>\n",
       "    </tr>\n",
       "  </thead>\n",
       "  <tbody>\n",
       "    <tr>\n",
       "      <th>0</th>\n",
       "      <td>1982-08-09 00:00:00</td>\n",
       "      <td>55.65</td>\n",
       "      <td>1982-08-09</td>\n",
       "      <td>00:00:00</td>\n",
       "      <td>1982</td>\n",
       "      <td>8</td>\n",
       "      <td>9</td>\n",
       "    </tr>\n",
       "    <tr>\n",
       "      <th>1</th>\n",
       "      <td>1982-08-10 00:00:00</td>\n",
       "      <td>62.79</td>\n",
       "      <td>1982-08-10</td>\n",
       "      <td>00:00:00</td>\n",
       "      <td>1982</td>\n",
       "      <td>8</td>\n",
       "      <td>10</td>\n",
       "    </tr>\n",
       "    <tr>\n",
       "      <th>2</th>\n",
       "      <td>1982-08-11 00:00:00</td>\n",
       "      <td>64.07</td>\n",
       "      <td>1982-08-11</td>\n",
       "      <td>00:00:00</td>\n",
       "      <td>1982</td>\n",
       "      <td>8</td>\n",
       "      <td>11</td>\n",
       "    </tr>\n",
       "  </tbody>\n",
       "</table>\n",
       "</div>"
      ],
      "text/plain": [
       "               Periodo  1.Dólar observado       Dates      Time  year  mes  \\\n",
       "0  1982-08-09 00:00:00              55.65  1982-08-09  00:00:00  1982    8   \n",
       "1  1982-08-10 00:00:00              62.79  1982-08-10  00:00:00  1982    8   \n",
       "2  1982-08-11 00:00:00              64.07  1982-08-11  00:00:00  1982    8   \n",
       "\n",
       "   Día  \n",
       "0    9  \n",
       "1   10  \n",
       "2   11  "
      ]
     },
     "execution_count": 42,
     "metadata": {},
     "output_type": "execute_result"
    }
   ],
   "source": [
    "#separando la fecha por año, mes y dia en df_bc_all\n",
    "\n",
    "df_bc_all ['year'] = pd.DatetimeIndex(df_bc_all ['Dates']). year\n",
    "df_bc_all ['mes'] = pd.DatetimeIndex(df_bc_all['Dates']). month\n",
    "df_bc_all['Día'] = pd.DatetimeIndex(df_bc_all['Dates']).day\n",
    "df_bc_all.head(3)"
   ]
  },
  {
   "cell_type": "code",
   "execution_count": 43,
   "id": "0d1e3f42",
   "metadata": {},
   "outputs": [
    {
     "data": {
      "text/plain": [
       "Index(['Periodo', '1.Dólar observado', 'Dates', 'Time', 'year', 'mes', 'Día'], dtype='object')"
      ]
     },
     "execution_count": 43,
     "metadata": {},
     "output_type": "execute_result"
    }
   ],
   "source": [
    "#Revisando el nombre de las columnas\n",
    "\n",
    "df_bc_all.columns"
   ]
  },
  {
   "cell_type": "code",
   "execution_count": 44,
   "id": "75f28abf",
   "metadata": {},
   "outputs": [
    {
     "data": {
      "text/html": [
       "<div>\n",
       "<style scoped>\n",
       "    .dataframe tbody tr th:only-of-type {\n",
       "        vertical-align: middle;\n",
       "    }\n",
       "\n",
       "    .dataframe tbody tr th {\n",
       "        vertical-align: top;\n",
       "    }\n",
       "\n",
       "    .dataframe thead th {\n",
       "        text-align: right;\n",
       "    }\n",
       "</style>\n",
       "<table border=\"1\" class=\"dataframe\">\n",
       "  <thead>\n",
       "    <tr style=\"text-align: right;\">\n",
       "      <th></th>\n",
       "      <th>1.Dólar observado</th>\n",
       "      <th>year</th>\n",
       "      <th>mes</th>\n",
       "      <th>Día</th>\n",
       "    </tr>\n",
       "  </thead>\n",
       "  <tbody>\n",
       "    <tr>\n",
       "      <th>0</th>\n",
       "      <td>55.65</td>\n",
       "      <td>1982</td>\n",
       "      <td>8</td>\n",
       "      <td>9</td>\n",
       "    </tr>\n",
       "    <tr>\n",
       "      <th>1</th>\n",
       "      <td>62.79</td>\n",
       "      <td>1982</td>\n",
       "      <td>8</td>\n",
       "      <td>10</td>\n",
       "    </tr>\n",
       "    <tr>\n",
       "      <th>2</th>\n",
       "      <td>64.07</td>\n",
       "      <td>1982</td>\n",
       "      <td>8</td>\n",
       "      <td>11</td>\n",
       "    </tr>\n",
       "    <tr>\n",
       "      <th>3</th>\n",
       "      <td>60.52</td>\n",
       "      <td>1982</td>\n",
       "      <td>8</td>\n",
       "      <td>12</td>\n",
       "    </tr>\n",
       "    <tr>\n",
       "      <th>4</th>\n",
       "      <td>56.87</td>\n",
       "      <td>1982</td>\n",
       "      <td>8</td>\n",
       "      <td>13</td>\n",
       "    </tr>\n",
       "    <tr>\n",
       "      <th>...</th>\n",
       "      <td>...</td>\n",
       "      <td>...</td>\n",
       "      <td>...</td>\n",
       "      <td>...</td>\n",
       "    </tr>\n",
       "    <tr>\n",
       "      <th>969</th>\n",
       "      <td>NaN</td>\n",
       "      <td>2022</td>\n",
       "      <td>8</td>\n",
       "      <td>27</td>\n",
       "    </tr>\n",
       "    <tr>\n",
       "      <th>970</th>\n",
       "      <td>NaN</td>\n",
       "      <td>2022</td>\n",
       "      <td>8</td>\n",
       "      <td>28</td>\n",
       "    </tr>\n",
       "    <tr>\n",
       "      <th>971</th>\n",
       "      <td>900.22</td>\n",
       "      <td>2022</td>\n",
       "      <td>8</td>\n",
       "      <td>29</td>\n",
       "    </tr>\n",
       "    <tr>\n",
       "      <th>972</th>\n",
       "      <td>890.90</td>\n",
       "      <td>2022</td>\n",
       "      <td>8</td>\n",
       "      <td>30</td>\n",
       "    </tr>\n",
       "    <tr>\n",
       "      <th>973</th>\n",
       "      <td>882.11</td>\n",
       "      <td>2022</td>\n",
       "      <td>8</td>\n",
       "      <td>31</td>\n",
       "    </tr>\n",
       "  </tbody>\n",
       "</table>\n",
       "<p>14633 rows × 4 columns</p>\n",
       "</div>"
      ],
      "text/plain": [
       "     1.Dólar observado  year  mes  Día\n",
       "0                55.65  1982    8    9\n",
       "1                62.79  1982    8   10\n",
       "2                64.07  1982    8   11\n",
       "3                60.52  1982    8   12\n",
       "4                56.87  1982    8   13\n",
       "..                 ...   ...  ...  ...\n",
       "969                NaN  2022    8   27\n",
       "970                NaN  2022    8   28\n",
       "971             900.22  2022    8   29\n",
       "972             890.90  2022    8   30\n",
       "973             882.11  2022    8   31\n",
       "\n",
       "[14633 rows x 4 columns]"
      ]
     },
     "execution_count": 44,
     "metadata": {},
     "output_type": "execute_result"
    }
   ],
   "source": [
    "#Eliminando las columnas que no utilizaremos\n",
    "\n",
    "df_bc_all.drop(columns = ['Periodo', 'Dates', 'Time'])\n",
    "         "
   ]
  },
  {
   "cell_type": "code",
   "execution_count": 45,
   "id": "eb5e982b",
   "metadata": {},
   "outputs": [
    {
     "data": {
      "text/html": [
       "<div>\n",
       "<style scoped>\n",
       "    .dataframe tbody tr th:only-of-type {\n",
       "        vertical-align: middle;\n",
       "    }\n",
       "\n",
       "    .dataframe tbody tr th {\n",
       "        vertical-align: top;\n",
       "    }\n",
       "\n",
       "    .dataframe thead th {\n",
       "        text-align: right;\n",
       "    }\n",
       "</style>\n",
       "<table border=\"1\" class=\"dataframe\">\n",
       "  <thead>\n",
       "    <tr style=\"text-align: right;\">\n",
       "      <th></th>\n",
       "      <th>year</th>\n",
       "      <th>mes</th>\n",
       "      <th>Día</th>\n",
       "      <th>1.Dólar observado</th>\n",
       "    </tr>\n",
       "  </thead>\n",
       "  <tbody>\n",
       "    <tr>\n",
       "      <th>0</th>\n",
       "      <td>1982</td>\n",
       "      <td>8</td>\n",
       "      <td>9</td>\n",
       "      <td>55.65</td>\n",
       "    </tr>\n",
       "    <tr>\n",
       "      <th>1</th>\n",
       "      <td>1982</td>\n",
       "      <td>8</td>\n",
       "      <td>10</td>\n",
       "      <td>62.79</td>\n",
       "    </tr>\n",
       "    <tr>\n",
       "      <th>2</th>\n",
       "      <td>1982</td>\n",
       "      <td>8</td>\n",
       "      <td>11</td>\n",
       "      <td>64.07</td>\n",
       "    </tr>\n",
       "  </tbody>\n",
       "</table>\n",
       "</div>"
      ],
      "text/plain": [
       "   year  mes  Día  1.Dólar observado\n",
       "0  1982    8    9              55.65\n",
       "1  1982    8   10              62.79\n",
       "2  1982    8   11              64.07"
      ]
     },
     "execution_count": 45,
     "metadata": {},
     "output_type": "execute_result"
    }
   ],
   "source": [
    "#Ordenando las columnas del df_bc_all\n",
    "\n",
    "df_bc_all = df_bc_all.reindex(columns=['year','mes','Día','1.Dólar observado'])\n",
    "df_bc_all.head(3)"
   ]
  },
  {
   "cell_type": "markdown",
   "id": "0b0d1c3f",
   "metadata": {},
   "source": [
    "### Crea una carpeta dentro de la carpeta data/processed llamada dolar_bc_year, agrupa por year usando groupby y guarda un CSV para cada año desde 1982 hasta 2022, con los nombres dolar_bc_YYYY.csv donde YYYY es el año. Busca una manera de hacerlo iterando y no uno a uno."
   ]
  },
  {
   "cell_type": "code",
   "execution_count": 46,
   "id": "5fdf0f75",
   "metadata": {},
   "outputs": [
    {
     "data": {
      "text/plain": [
       "<pandas.core.groupby.generic.DataFrameGroupBy object at 0x000001AF8E14ED90>"
      ]
     },
     "execution_count": 46,
     "metadata": {},
     "output_type": "execute_result"
    }
   ],
   "source": [
    "#Agrupando el dataframe df_bc_all por año (df_year1)\n",
    "\n",
    "df_year1=df_bc_all.groupby(['year'],as_index=True)\n",
    "df_year1"
   ]
  },
  {
   "cell_type": "code",
   "execution_count": 47,
   "id": "7774e603",
   "metadata": {},
   "outputs": [
    {
     "data": {
      "text/plain": [
       "Index(['year', 'mes', 'Día', '1.Dólar observado'], dtype='object')"
      ]
     },
     "execution_count": 47,
     "metadata": {},
     "output_type": "execute_result"
    }
   ],
   "source": [
    "#revisando las etiquetas del Dataframe df_bc_all\n",
    "df_bc_all.keys()\n"
   ]
  },
  {
   "cell_type": "code",
   "execution_count": 48,
   "id": "a4c19903",
   "metadata": {},
   "outputs": [
    {
     "name": "stdout",
     "output_type": "stream",
     "text": [
      "     year  mes  Día  1.Dólar observado\n",
      "0    1982    8    9              55.65\n",
      "1    1982    8   10              62.79\n",
      "2    1982    8   11              64.07\n",
      "3    1982    8   12              60.52\n",
      "4    1982    8   13              56.87\n",
      "..    ...  ...  ...                ...\n",
      "140  1982   12   27              73.25\n",
      "141  1982   12   28              73.52\n",
      "142  1982   12   29              73.55\n",
      "143  1982   12   30              73.57\n",
      "144  1982   12   31                NaN\n",
      "\n",
      "[145 rows x 4 columns]\n",
      "     year  mes  Día  1.Dólar observado\n",
      "145  1983    1    1                NaN\n",
      "146  1983    1    2                NaN\n",
      "147  1983    1    3              73.43\n",
      "148  1983    1    4              73.83\n",
      "149  1983    1    5              73.86\n",
      "..    ...  ...  ...                ...\n",
      "505  1983   12   27              87.42\n",
      "506  1983   12   28              87.47\n",
      "507  1983   12   29              87.50\n",
      "508  1983   12   30              87.51\n",
      "509  1983   12   31                NaN\n",
      "\n",
      "[365 rows x 4 columns]\n",
      "     year  mes  Día  1.Dólar observado\n",
      "510  1984    1    1                NaN\n",
      "511  1984    1    2              87.54\n",
      "512  1984    1    3              87.62\n",
      "513  1984    1    4              87.63\n",
      "514  1984    1    5              87.66\n",
      "..    ...  ...  ...                ...\n",
      "871  1984   12   27             128.34\n",
      "872  1984   12   28             128.29\n",
      "873  1984   12   29                NaN\n",
      "874  1984   12   30                NaN\n",
      "875  1984   12   31                NaN\n",
      "\n",
      "[366 rows x 4 columns]\n",
      "      year  mes  Día  1.Dólar observado\n",
      "876   1985    1    1                NaN\n",
      "877   1985    1    2             128.24\n",
      "878   1985    1    3             128.45\n",
      "879   1985    1    4             128.49\n",
      "880   1985    1    5                NaN\n",
      "...    ...  ...  ...                ...\n",
      "1236  1985   12   27             183.48\n",
      "1237  1985   12   28                NaN\n",
      "1238  1985   12   29                NaN\n",
      "1239  1985   12   30             183.66\n",
      "1240  1985   12   31                NaN\n",
      "\n",
      "[365 rows x 4 columns]\n",
      "      year  mes  Día  1.Dólar observado\n",
      "1241  1986    1    1                NaN\n",
      "1242  1986    1    2             183.86\n",
      "1243  1986    1    3             183.98\n",
      "1244  1986    1    4                NaN\n",
      "1245  1986    1    5                NaN\n",
      "...    ...  ...  ...                ...\n",
      "1601  1986   12   27                NaN\n",
      "1602  1986   12   28                NaN\n",
      "1603  1986   12   29             204.66\n",
      "1604  1986   12   30             205.00\n",
      "1605  1986   12   31                NaN\n",
      "\n",
      "[365 rows x 4 columns]\n",
      "      year  mes  Día  1.Dólar observado\n",
      "1606  1987    1    1                NaN\n",
      "1607  1987    1    2             204.73\n",
      "1608  1987    1    3                NaN\n",
      "1609  1987    1    4                NaN\n",
      "1610  1987    1    5             204.70\n",
      "...    ...  ...  ...                ...\n",
      "1966  1987   12   27                NaN\n",
      "1967  1987   12   28             236.92\n",
      "1968  1987   12   29             237.35\n",
      "1969  1987   12   30             238.11\n",
      "1970  1987   12   31                NaN\n",
      "\n",
      "[365 rows x 4 columns]\n",
      "      year  mes  Día  1.Dólar observado\n",
      "1971  1988    1    1                NaN\n",
      "1972  1988    1    2                NaN\n",
      "1973  1988    1    3                NaN\n",
      "1974  1988    1    4             238.14\n",
      "1975  1988    1    5             238.26\n",
      "...    ...  ...  ...                ...\n",
      "2332  1988   12   27             245.99\n",
      "2333  1988   12   28             247.64\n",
      "2334  1988   12   29             247.57\n",
      "2335  1988   12   30             247.49\n",
      "2336  1988   12   31                NaN\n",
      "\n",
      "[366 rows x 4 columns]\n",
      "      year  mes  Día  1.Dólar observado\n",
      "2337  1989    1    1                NaN\n",
      "2338  1989    1    2             247.20\n",
      "2339  1989    1    3             247.45\n",
      "2340  1989    1    4             248.49\n",
      "2341  1989    1    5             248.69\n",
      "...    ...  ...  ...                ...\n",
      "2697  1989   12   27             296.62\n",
      "2698  1989   12   28             296.69\n",
      "2699  1989   12   29             296.58\n",
      "2700  1989   12   30                NaN\n",
      "2701  1989   12   31                NaN\n",
      "\n",
      "[365 rows x 4 columns]\n",
      "     year  mes  Día  1.Dólar observado\n",
      "0    1990    1    1                NaN\n",
      "1    1990    1    2             297.37\n",
      "2    1990    1    3             297.32\n",
      "3    1990    1    4             297.65\n",
      "4    1990    1    5             297.66\n",
      "..    ...  ...  ...                ...\n",
      "360  1990   12   27             337.75\n",
      "361  1990   12   28             336.86\n",
      "362  1990   12   29                NaN\n",
      "363  1990   12   30                NaN\n",
      "364  1990   12   31                NaN\n",
      "\n",
      "[365 rows x 4 columns]\n",
      "     year  mes  Día  1.Dólar observado\n",
      "365  1991    1    1                NaN\n",
      "366  1991    1    2             337.09\n",
      "367  1991    1    3             336.98\n",
      "368  1991    1    4             336.67\n",
      "369  1991    1    5                NaN\n",
      "..    ...  ...  ...                ...\n",
      "725  1991   12   27             374.50\n",
      "726  1991   12   28                NaN\n",
      "727  1991   12   29                NaN\n",
      "728  1991   12   30             374.87\n",
      "729  1991   12   31                NaN\n",
      "\n",
      "[365 rows x 4 columns]\n",
      "      year  mes  Día  1.Dólar observado\n",
      "730   1992    1    1                NaN\n",
      "731   1992    1    2             374.51\n",
      "732   1992    1    3             374.10\n",
      "733   1992    1    4                NaN\n",
      "734   1992    1    5                NaN\n",
      "...    ...  ...  ...                ...\n",
      "1091  1992   12   27                NaN\n",
      "1092  1992   12   28             380.89\n",
      "1093  1992   12   29             381.95\n",
      "1094  1992   12   30             382.33\n",
      "1095  1992   12   31                NaN\n",
      "\n",
      "[366 rows x 4 columns]\n",
      "      year  mes  Día  1.Dólar observado\n",
      "1096  1993    1    1                NaN\n",
      "1097  1993    1    2                NaN\n",
      "1098  1993    1    3                NaN\n",
      "1099  1993    1    4             382.12\n",
      "1100  1993    1    5             383.57\n",
      "...    ...  ...  ...                ...\n",
      "1456  1993   12   27             428.68\n",
      "1457  1993   12   28             428.64\n",
      "1458  1993   12   29             429.90\n",
      "1459  1993   12   30             431.04\n",
      "1460  1993   12   31                NaN\n",
      "\n",
      "[365 rows x 4 columns]\n",
      "      year  mes  Día  1.Dólar observado\n",
      "1461  1994    1    1                NaN\n",
      "1462  1994    1    2                NaN\n",
      "1463  1994    1    3             428.47\n",
      "1464  1994    1    4             429.10\n",
      "1465  1994    1    5             431.08\n",
      "...    ...  ...  ...                ...\n",
      "1821  1994   12   27             404.87\n",
      "1822  1994   12   28             405.46\n",
      "1823  1994   12   29             406.47\n",
      "1824  1994   12   30             404.09\n",
      "1825  1994   12   31                NaN\n",
      "\n",
      "[365 rows x 4 columns]\n",
      "      year  mes  Día  1.Dólar observado\n",
      "1826  1995    1    1                NaN\n",
      "1827  1995    1    2             402.92\n",
      "1828  1995    1    3             401.69\n",
      "1829  1995    1    4             403.81\n",
      "1830  1995    1    5             403.27\n",
      "...    ...  ...  ...                ...\n",
      "2186  1995   12   27             407.19\n",
      "2187  1995   12   28             407.90\n",
      "2188  1995   12   29             407.13\n",
      "2189  1995   12   30                NaN\n",
      "2190  1995   12   31                NaN\n",
      "\n",
      "[365 rows x 4 columns]\n",
      "      year  mes  Día  1.Dólar observado\n",
      "2191  1996    1    1                NaN\n",
      "2192  1996    1    2             406.91\n",
      "2193  1996    1    3             405.53\n",
      "2194  1996    1    4             404.76\n",
      "2195  1996    1    5             407.33\n",
      "...    ...  ...  ...                ...\n",
      "2552  1996   12   27             423.59\n",
      "2553  1996   12   28                NaN\n",
      "2554  1996   12   29                NaN\n",
      "2555  1996   12   30             424.97\n",
      "2556  1996   12   31                NaN\n",
      "\n",
      "[366 rows x 4 columns]\n",
      "      year  mes  Día  1.Dólar observado\n",
      "2557  1997    1    1                NaN\n",
      "2558  1997    1    2             424.87\n",
      "2559  1997    1    3             424.29\n",
      "2560  1997    1    4                NaN\n",
      "2561  1997    1    5                NaN\n",
      "...    ...  ...  ...                ...\n",
      "2917  1997   12   27                NaN\n",
      "2918  1997   12   28                NaN\n",
      "2919  1997   12   29             438.89\n",
      "2920  1997   12   30             439.26\n",
      "2921  1997   12   31             439.81\n",
      "\n",
      "[365 rows x 4 columns]\n",
      "      year  mes  Día  1.Dólar observado\n",
      "2922  1998    1    1                NaN\n",
      "2923  1998    1    2             439.18\n",
      "2924  1998    1    3                NaN\n",
      "2925  1998    1    4                NaN\n",
      "2926  1998    1    5             439.58\n",
      "...    ...  ...  ...                ...\n",
      "3282  1998   12   27                NaN\n",
      "3283  1998   12   28             474.02\n",
      "3284  1998   12   29             473.67\n",
      "3285  1998   12   30             473.77\n",
      "3286  1998   12   31                NaN\n",
      "\n",
      "[365 rows x 4 columns]\n",
      "      year  mes  Día  1.Dólar observado\n",
      "3287  1999    1    1                NaN\n",
      "3288  1999    1    2                NaN\n",
      "3289  1999    1    3                NaN\n",
      "3290  1999    1    4             472.41\n",
      "3291  1999    1    5             471.61\n",
      "...    ...  ...  ...                ...\n",
      "3647  1999   12   27             534.19\n",
      "3648  1999   12   28             531.22\n",
      "3649  1999   12   29             530.44\n",
      "3650  1999   12   30             527.70\n",
      "3651  1999   12   31                NaN\n",
      "\n",
      "[365 rows x 4 columns]\n",
      "     year  mes  Día  1.Dólar observado\n",
      "0    2000    1    1                NaN\n",
      "1    2000    1    2                NaN\n",
      "2    2000    1    3             530.07\n",
      "3    2000    1    4             527.28\n",
      "4    2000    1    5             529.08\n",
      "..    ...  ...  ...                ...\n",
      "361  2000   12   27             573.55\n",
      "362  2000   12   28             574.32\n",
      "363  2000   12   29             572.68\n",
      "364  2000   12   30                NaN\n",
      "365  2000   12   31                NaN\n",
      "\n",
      "[366 rows x 4 columns]\n",
      "     year  mes  Día  1.Dólar observado\n",
      "366  2001    1    1                NaN\n",
      "367  2001    1    2             573.65\n",
      "368  2001    1    3             574.19\n",
      "369  2001    1    4             575.94\n",
      "370  2001    1    5             571.44\n",
      "..    ...  ...  ...                ...\n",
      "726  2001   12   27             660.46\n",
      "727  2001   12   28             656.20\n",
      "728  2001   12   29                NaN\n",
      "729  2001   12   30                NaN\n",
      "730  2001   12   31                NaN\n",
      "\n",
      "[365 rows x 4 columns]\n",
      "      year  mes  Día  1.Dólar observado\n",
      "731   2002    1    1                NaN\n",
      "732   2002    1    2             654.79\n",
      "733   2002    1    3             658.31\n",
      "734   2002    1    4             648.69\n",
      "735   2002    1    5                NaN\n",
      "...    ...  ...  ...                ...\n",
      "1091  2002   12   27             709.51\n",
      "1092  2002   12   28                NaN\n",
      "1093  2002   12   29                NaN\n",
      "1094  2002   12   30             712.38\n",
      "1095  2002   12   31                NaN\n",
      "\n",
      "[365 rows x 4 columns]\n",
      "      year  mes  Día  1.Dólar observado\n",
      "1096  2003    1    1                NaN\n",
      "1097  2003    1    2             718.61\n",
      "1098  2003    1    3             718.73\n",
      "1099  2003    1    4                NaN\n",
      "1100  2003    1    5                NaN\n",
      "...    ...  ...  ...                ...\n",
      "1456  2003   12   27                NaN\n",
      "1457  2003   12   28                NaN\n",
      "1458  2003   12   29             593.10\n",
      "1459  2003   12   30             599.42\n",
      "1460  2003   12   31                NaN\n",
      "\n",
      "[365 rows x 4 columns]\n",
      "      year  mes  Día  1.Dólar observado\n",
      "1461  2004    1    1                NaN\n",
      "1462  2004    1    2             593.80\n",
      "1463  2004    1    3                NaN\n",
      "1464  2004    1    4                NaN\n",
      "1465  2004    1    5             587.69\n",
      "...    ...  ...  ...                ...\n",
      "1822  2004   12   27             561.05\n",
      "1823  2004   12   28             561.13\n",
      "1824  2004   12   29             559.66\n",
      "1825  2004   12   30             559.83\n",
      "1826  2004   12   31                NaN\n",
      "\n",
      "[366 rows x 4 columns]\n",
      "      year  mes  Día  1.Dólar observado\n",
      "1827  2005    1    1                NaN\n",
      "1828  2005    1    2                NaN\n",
      "1829  2005    1    3             557.40\n",
      "1830  2005    1    4             560.30\n",
      "1831  2005    1    5             568.95\n",
      "...    ...  ...  ...                ...\n",
      "2187  2005   12   27             513.97\n",
      "2188  2005   12   28             514.84\n",
      "2189  2005   12   29             514.75\n",
      "2190  2005   12   30             514.21\n",
      "2191  2005   12   31                NaN\n",
      "\n",
      "[365 rows x 4 columns]\n",
      "      year  mes  Día  1.Dólar observado\n",
      "2192  2006    1    1                NaN\n",
      "2193  2006    1    2             512.50\n",
      "2194  2006    1    3             513.18\n",
      "2195  2006    1    4             518.04\n",
      "2196  2006    1    5             515.45\n",
      "...    ...  ...  ...                ...\n",
      "2552  2006   12   27             532.69\n",
      "2553  2006   12   28             533.87\n",
      "2554  2006   12   29             534.43\n",
      "2555  2006   12   30                NaN\n",
      "2556  2006   12   31                NaN\n",
      "\n",
      "[365 rows x 4 columns]\n",
      "      year  mes  Día  1.Dólar observado\n",
      "2557  2007    1    1                NaN\n",
      "2558  2007    1    2             532.39\n",
      "2559  2007    1    3             534.42\n",
      "2560  2007    1    4             538.22\n",
      "2561  2007    1    5             540.69\n",
      "...    ...  ...  ...                ...\n",
      "2917  2007   12   27             495.49\n",
      "2918  2007   12   28             495.82\n",
      "2919  2007   12   29                NaN\n",
      "2920  2007   12   30                NaN\n",
      "2921  2007   12   31                NaN\n",
      "\n",
      "[365 rows x 4 columns]\n",
      "      year  mes  Día  1.Dólar observado\n",
      "2922  2008    1    1                NaN\n",
      "2923  2008    1    2             496.89\n",
      "2924  2008    1    3             498.05\n",
      "2925  2008    1    4             496.83\n",
      "2926  2008    1    5                NaN\n",
      "...    ...  ...  ...                ...\n",
      "3283  2008   12   27                NaN\n",
      "3284  2008   12   28                NaN\n",
      "3285  2008   12   29             627.93\n",
      "3286  2008   12   30             629.11\n",
      "3287  2008   12   31                NaN\n",
      "\n",
      "[366 rows x 4 columns]\n",
      "      year  mes  Día  1.Dólar observado\n",
      "3288  2009    1    1                NaN\n",
      "3289  2009    1    2             636.45\n",
      "3290  2009    1    3                NaN\n",
      "3291  2009    1    4                NaN\n",
      "3292  2009    1    5             640.91\n",
      "...    ...  ...  ...                ...\n",
      "3648  2009   12   27                NaN\n",
      "3649  2009   12   28             506.62\n",
      "3650  2009   12   29             506.27\n",
      "3651  2009   12   30             506.43\n",
      "3652  2009   12   31                NaN\n",
      "\n",
      "[365 rows x 4 columns]\n",
      "     year  mes  Día  1.Dólar observado\n",
      "0    2010    1    1                NaN\n",
      "1    2010    1    2                NaN\n",
      "2    2010    1    3                NaN\n",
      "3    2010    1    4             507.10\n",
      "4    2010    1    5             505.70\n",
      "..    ...  ...  ...                ...\n",
      "360  2010   12   27             469.52\n",
      "361  2010   12   28             471.21\n",
      "362  2010   12   29             469.64\n",
      "363  2010   12   30             468.37\n",
      "364  2010   12   31                NaN\n",
      "\n",
      "[365 rows x 4 columns]\n",
      "     year  mes  Día  1.Dólar observado\n",
      "365  2011    1    1                NaN\n",
      "366  2011    1    2                NaN\n",
      "367  2011    1    3             468.01\n",
      "368  2011    1    4             466.05\n",
      "369  2011    1    5             486.82\n",
      "..    ...  ...  ...                ...\n",
      "725  2011   12   27             520.54\n",
      "726  2011   12   28             521.78\n",
      "727  2011   12   29             521.74\n",
      "728  2011   12   30             521.46\n",
      "729  2011   12   31                NaN\n",
      "\n",
      "[365 rows x 4 columns]\n",
      "      year  mes  Día  1.Dólar observado\n",
      "730   2012    1    1                NaN\n",
      "731   2012    1    2             519.20\n",
      "732   2012    1    3             518.20\n",
      "733   2012    1    4             514.34\n",
      "734   2012    1    5             512.23\n",
      "...    ...  ...  ...                ...\n",
      "1091  2012   12   27             479.09\n",
      "1092  2012   12   28             478.60\n",
      "1093  2012   12   29                NaN\n",
      "1094  2012   12   30                NaN\n",
      "1095  2012   12   31                NaN\n",
      "\n",
      "[366 rows x 4 columns]\n",
      "      year  mes  Día  1.Dólar observado\n",
      "1096  2013    1    1                NaN\n",
      "1097  2013    1    2             479.96\n",
      "1098  2013    1    3             475.31\n",
      "1099  2013    1    4             473.25\n",
      "1100  2013    1    5                NaN\n",
      "...    ...  ...  ...                ...\n",
      "1456  2013   12   27             525.24\n",
      "1457  2013   12   28                NaN\n",
      "1458  2013   12   29                NaN\n",
      "1459  2013   12   30             523.76\n",
      "1460  2013   12   31                NaN\n",
      "\n",
      "[365 rows x 4 columns]\n",
      "      year  mes  Día  1.Dólar observado\n",
      "1461  2014    1    1                NaN\n",
      "1462  2014    1    2             524.61\n",
      "1463  2014    1    3             529.55\n",
      "1464  2014    1    4                NaN\n",
      "1465  2014    1    5                NaN\n",
      "...    ...  ...  ...                ...\n",
      "1821  2014   12   27                NaN\n",
      "1822  2014   12   28                NaN\n",
      "1823  2014   12   29             608.15\n",
      "1824  2014   12   30             607.38\n",
      "1825  2014   12   31                NaN\n",
      "\n",
      "[365 rows x 4 columns]\n",
      "      year  mes  Día  1.Dólar observado\n",
      "1826  2015    1    1                NaN\n",
      "1827  2015    1    2             606.75\n",
      "1828  2015    1    3                NaN\n",
      "1829  2015    1    4                NaN\n",
      "1830  2015    1    5             612.47\n",
      "...    ...  ...  ...                ...\n",
      "2186  2015   12   27                NaN\n",
      "2187  2015   12   28             700.77\n",
      "2188  2015   12   29             704.42\n",
      "2189  2015   12   30             707.34\n",
      "2190  2015   12   31                NaN\n",
      "\n",
      "[365 rows x 4 columns]\n",
      "      year  mes  Día  1.Dólar observado\n",
      "2191  2016    1    1                NaN\n",
      "2192  2016    1    2                NaN\n",
      "2193  2016    1    3                NaN\n",
      "2194  2016    1    4             710.16\n",
      "2195  2016    1    5             716.94\n",
      "...    ...  ...  ...                ...\n",
      "2552  2016   12   27             672.69\n",
      "2553  2016   12   28             673.73\n",
      "2554  2016   12   29             673.06\n",
      "2555  2016   12   30             667.29\n",
      "2556  2016   12   31                NaN\n",
      "\n",
      "[366 rows x 4 columns]\n",
      "      year  mes  Día  1.Dólar observado\n",
      "2557  2017    1    1                NaN\n",
      "2558  2017    1    2                NaN\n",
      "2559  2017    1    3             669.47\n",
      "2560  2017    1    4             673.36\n",
      "2561  2017    1    5             671.78\n",
      "...    ...  ...  ...                ...\n",
      "2917  2017   12   27             619.03\n",
      "2918  2017   12   28             616.58\n",
      "2919  2017   12   29             615.22\n",
      "2920  2017   12   30                NaN\n",
      "2921  2017   12   31                NaN\n",
      "\n",
      "[365 rows x 4 columns]\n",
      "      year  mes  Día  1.Dólar observado\n",
      "2922  2018    1    1                NaN\n",
      "2923  2018    1    2             614.75\n",
      "2924  2018    1    3             609.49\n",
      "2925  2018    1    4             604.84\n",
      "2926  2018    1    5             604.00\n",
      "...    ...  ...  ...                ...\n",
      "3282  2018   12   27             693.78\n",
      "3283  2018   12   28             695.69\n",
      "3284  2018   12   29                NaN\n",
      "3285  2018   12   30                NaN\n",
      "3286  2018   12   31                NaN\n",
      "\n",
      "[365 rows x 4 columns]\n",
      "      year  mes  Día  1.Dólar observado\n",
      "3287  2019    1    1                NaN\n",
      "3288  2019    1    2             694.77\n",
      "3289  2019    1    3             697.09\n",
      "3290  2019    1    4             697.64\n",
      "3291  2019    1    5                NaN\n",
      "...    ...  ...  ...                ...\n",
      "3647  2019   12   27             746.66\n",
      "3648  2019   12   28                NaN\n",
      "3649  2019   12   29                NaN\n",
      "3650  2019   12   30             744.62\n",
      "3651  2019   12   31                NaN\n",
      "\n",
      "[365 rows x 4 columns]\n",
      "     year  mes  Día  1.Dólar observado\n",
      "0    2020    1    1                NaN\n",
      "1    2020    1    2             748.74\n",
      "2    2020    1    3             754.16\n",
      "3    2020    1    4                NaN\n",
      "4    2020    1    5                NaN\n",
      "..    ...  ...  ...                ...\n",
      "361  2020   12   27                NaN\n",
      "362  2020   12   28             710.26\n",
      "363  2020   12   29             710.64\n",
      "364  2020   12   30             711.24\n",
      "365  2020   12   31                NaN\n",
      "\n",
      "[366 rows x 4 columns]\n",
      "     year  mes  Día  1.Dólar observado\n",
      "366  2021    1    1                NaN\n",
      "367  2021    1    2                NaN\n",
      "368  2021    1    3                NaN\n",
      "369  2021    1    4             710.95\n",
      "370  2021    1    5             702.93\n",
      "..    ...  ...  ...                ...\n",
      "726  2021   12   27             863.29\n",
      "727  2021   12   28             858.59\n",
      "728  2021   12   29             855.94\n",
      "729  2021   12   30             850.25\n",
      "730  2021   12   31                NaN\n",
      "\n",
      "[365 rows x 4 columns]\n"
     ]
    },
    {
     "ename": "SyntaxError",
     "evalue": "'break' outside loop (2652282777.py, line 11)",
     "output_type": "error",
     "traceback": [
      "\u001b[1;36m  Input \u001b[1;32mIn [48]\u001b[1;36m\u001b[0m\n\u001b[1;33m    break\u001b[0m\n\u001b[1;37m    ^\u001b[0m\n\u001b[1;31mSyntaxError\u001b[0m\u001b[1;31m:\u001b[0m 'break' outside loop\n"
     ]
    }
   ],
   "source": [
    "#Separando el Dataframe df_bc_all por año, en varios Dataframes\n",
    "\n",
    "resultados = {}  # Diccionario inicialmente vacío\n",
    "df=pd.DataFrame() # Dataframe vacio\n",
    "\n",
    "for year in range(1982, 2022):\n",
    "    resultados[year] = df_bc_all[df_bc_all.year == year]\n",
    "    for year, dataframe in resultados.items():\n",
    "        df_year= dataframe\n",
    "    print(df_year)\n",
    "break\n",
    "    "
   ]
  },
  {
   "cell_type": "code",
   "execution_count": 49,
   "id": "cef0bcc6",
   "metadata": {},
   "outputs": [
    {
     "name": "stdout",
     "output_type": "stream",
     "text": [
      "Generando el archivo dolar_bc_1982.csv\n",
      "Generando el archivo dolar_bc_1983.csv\n",
      "Generando el archivo dolar_bc_1984.csv\n",
      "Generando el archivo dolar_bc_1985.csv\n",
      "Generando el archivo dolar_bc_1986.csv\n",
      "Generando el archivo dolar_bc_1987.csv\n",
      "Generando el archivo dolar_bc_1988.csv\n",
      "Generando el archivo dolar_bc_1989.csv\n",
      "Generando el archivo dolar_bc_1990.csv\n",
      "Generando el archivo dolar_bc_1991.csv\n",
      "Generando el archivo dolar_bc_1992.csv\n",
      "Generando el archivo dolar_bc_1993.csv\n",
      "Generando el archivo dolar_bc_1994.csv\n",
      "Generando el archivo dolar_bc_1995.csv\n",
      "Generando el archivo dolar_bc_1996.csv\n",
      "Generando el archivo dolar_bc_1997.csv\n",
      "Generando el archivo dolar_bc_1998.csv\n",
      "Generando el archivo dolar_bc_1999.csv\n",
      "Generando el archivo dolar_bc_2000.csv\n",
      "Generando el archivo dolar_bc_2001.csv\n",
      "Generando el archivo dolar_bc_2002.csv\n",
      "Generando el archivo dolar_bc_2003.csv\n",
      "Generando el archivo dolar_bc_2004.csv\n",
      "Generando el archivo dolar_bc_2005.csv\n",
      "Generando el archivo dolar_bc_2006.csv\n",
      "Generando el archivo dolar_bc_2007.csv\n",
      "Generando el archivo dolar_bc_2008.csv\n",
      "Generando el archivo dolar_bc_2009.csv\n",
      "Generando el archivo dolar_bc_2010.csv\n",
      "Generando el archivo dolar_bc_2011.csv\n",
      "Generando el archivo dolar_bc_2012.csv\n",
      "Generando el archivo dolar_bc_2013.csv\n",
      "Generando el archivo dolar_bc_2014.csv\n",
      "Generando el archivo dolar_bc_2015.csv\n",
      "Generando el archivo dolar_bc_2016.csv\n",
      "Generando el archivo dolar_bc_2017.csv\n",
      "Generando el archivo dolar_bc_2018.csv\n",
      "Generando el archivo dolar_bc_2019.csv\n",
      "Generando el archivo dolar_bc_2020.csv\n",
      "Generando el archivo dolar_bc_2021.csv\n",
      "Generando el archivo dolar_bc_2022.csv\n"
     ]
    },
    {
     "ename": "SyntaxError",
     "evalue": "'break' outside loop (1440702099.py, line 13)",
     "output_type": "error",
     "traceback": [
      "\u001b[1;36m  Input \u001b[1;32mIn [49]\u001b[1;36m\u001b[0m\n\u001b[1;33m    break\u001b[0m\n\u001b[1;37m    ^\u001b[0m\n\u001b[1;31mSyntaxError\u001b[0m\u001b[1;31m:\u001b[0m 'break' outside loop\n"
     ]
    }
   ],
   "source": [
    "#Guardando los Dataframes en archivos csv por año\n",
    "\n",
    "resultados = {}  # Diccionario inicialmente vacío\n",
    "df=pd.DataFrame()\n",
    "\n",
    "for year in range(1982, 2023):\n",
    "    resultados[year] = df_bc_all[df_bc_all.year == year]\n",
    "    for year, dataframe in resultados.items():\n",
    "        nombre_dataframe= f'dolar_bc_{year}.csv'\n",
    "        dataframe.to_csv(nombre_dataframe)\n",
    "    print(f'Generando el archivo {nombre_dataframe}')\n",
    "    \n",
    "break\n",
    "    \n",
    "  "
   ]
  },
  {
   "cell_type": "markdown",
   "id": "759b093a",
   "metadata": {},
   "source": [
    "### Crea un dataframe que tenga los años 2019 y 2020 que se llame df_bc_2019_2020"
   ]
  },
  {
   "cell_type": "code",
   "execution_count": 50,
   "id": "cece36a4",
   "metadata": {},
   "outputs": [
    {
     "name": "stdout",
     "output_type": "stream",
     "text": [
      "365\n"
     ]
    },
    {
     "data": {
      "text/html": [
       "<div>\n",
       "<style scoped>\n",
       "    .dataframe tbody tr th:only-of-type {\n",
       "        vertical-align: middle;\n",
       "    }\n",
       "\n",
       "    .dataframe tbody tr th {\n",
       "        vertical-align: top;\n",
       "    }\n",
       "\n",
       "    .dataframe thead th {\n",
       "        text-align: right;\n",
       "    }\n",
       "</style>\n",
       "<table border=\"1\" class=\"dataframe\">\n",
       "  <thead>\n",
       "    <tr style=\"text-align: right;\">\n",
       "      <th></th>\n",
       "      <th>Unnamed: 0</th>\n",
       "      <th>year</th>\n",
       "      <th>mes</th>\n",
       "      <th>Día</th>\n",
       "      <th>1.Dólar observado</th>\n",
       "    </tr>\n",
       "  </thead>\n",
       "  <tbody>\n",
       "    <tr>\n",
       "      <th>0</th>\n",
       "      <td>3287</td>\n",
       "      <td>2019</td>\n",
       "      <td>1</td>\n",
       "      <td>1</td>\n",
       "      <td>NaN</td>\n",
       "    </tr>\n",
       "    <tr>\n",
       "      <th>1</th>\n",
       "      <td>3288</td>\n",
       "      <td>2019</td>\n",
       "      <td>1</td>\n",
       "      <td>2</td>\n",
       "      <td>694.77</td>\n",
       "    </tr>\n",
       "    <tr>\n",
       "      <th>2</th>\n",
       "      <td>3289</td>\n",
       "      <td>2019</td>\n",
       "      <td>1</td>\n",
       "      <td>3</td>\n",
       "      <td>697.09</td>\n",
       "    </tr>\n",
       "  </tbody>\n",
       "</table>\n",
       "</div>"
      ],
      "text/plain": [
       "   Unnamed: 0  year  mes  Día  1.Dólar observado\n",
       "0        3287  2019    1    1                NaN\n",
       "1        3288  2019    1    2             694.77\n",
       "2        3289  2019    1    3             697.09"
      ]
     },
     "execution_count": 50,
     "metadata": {},
     "output_type": "execute_result"
    }
   ],
   "source": [
    "#Creando un Datframe desde los archivos creados 2019\n",
    "\n",
    "dolar_bc_2019=pd.read_csv('dolar_bc_2019.csv')\n",
    "print(len(dolar_bc_2019))\n",
    "dolar_bc_2019.head(3)"
   ]
  },
  {
   "cell_type": "code",
   "execution_count": 51,
   "id": "d47bed27",
   "metadata": {},
   "outputs": [
    {
     "name": "stdout",
     "output_type": "stream",
     "text": [
      "366\n"
     ]
    },
    {
     "data": {
      "text/html": [
       "<div>\n",
       "<style scoped>\n",
       "    .dataframe tbody tr th:only-of-type {\n",
       "        vertical-align: middle;\n",
       "    }\n",
       "\n",
       "    .dataframe tbody tr th {\n",
       "        vertical-align: top;\n",
       "    }\n",
       "\n",
       "    .dataframe thead th {\n",
       "        text-align: right;\n",
       "    }\n",
       "</style>\n",
       "<table border=\"1\" class=\"dataframe\">\n",
       "  <thead>\n",
       "    <tr style=\"text-align: right;\">\n",
       "      <th></th>\n",
       "      <th>Unnamed: 0</th>\n",
       "      <th>year</th>\n",
       "      <th>mes</th>\n",
       "      <th>Día</th>\n",
       "      <th>1.Dólar observado</th>\n",
       "    </tr>\n",
       "  </thead>\n",
       "  <tbody>\n",
       "    <tr>\n",
       "      <th>0</th>\n",
       "      <td>0</td>\n",
       "      <td>2020</td>\n",
       "      <td>1</td>\n",
       "      <td>1</td>\n",
       "      <td>NaN</td>\n",
       "    </tr>\n",
       "    <tr>\n",
       "      <th>1</th>\n",
       "      <td>1</td>\n",
       "      <td>2020</td>\n",
       "      <td>1</td>\n",
       "      <td>2</td>\n",
       "      <td>748.74</td>\n",
       "    </tr>\n",
       "    <tr>\n",
       "      <th>2</th>\n",
       "      <td>2</td>\n",
       "      <td>2020</td>\n",
       "      <td>1</td>\n",
       "      <td>3</td>\n",
       "      <td>754.16</td>\n",
       "    </tr>\n",
       "  </tbody>\n",
       "</table>\n",
       "</div>"
      ],
      "text/plain": [
       "   Unnamed: 0  year  mes  Día  1.Dólar observado\n",
       "0           0  2020    1    1                NaN\n",
       "1           1  2020    1    2             748.74\n",
       "2           2  2020    1    3             754.16"
      ]
     },
     "execution_count": 51,
     "metadata": {},
     "output_type": "execute_result"
    }
   ],
   "source": [
    "#Creando un Datframe desde los archivos creados 2020\n",
    "\n",
    "dolar_bc_2020=pd.read_csv('dolar_bc_2020.csv')\n",
    "print(len(dolar_bc_2020))\n",
    "dolar_bc_2020.head(3)"
   ]
  },
  {
   "cell_type": "code",
   "execution_count": 52,
   "id": "09d56738",
   "metadata": {},
   "outputs": [
    {
     "name": "stdout",
     "output_type": "stream",
     "text": [
      "731\n"
     ]
    },
    {
     "data": {
      "text/plain": [
       "Index(['Unnamed: 0', 'year', 'mes', 'Día', '1.Dólar observado'], dtype='object')"
      ]
     },
     "execution_count": 52,
     "metadata": {},
     "output_type": "execute_result"
    }
   ],
   "source": [
    "#Creando el Dataframe df_bc_2019_2020\n",
    "\n",
    "dolar_bc_2019=pd.read_csv('dolar_bc_2019.csv')\n",
    "dolar_bc_2020=pd.read_csv('dolar_bc_2020.csv')\n",
    "df_bc_2019_2020= pd.concat([dolar_bc_2019,dolar_bc_2020], axis=0)\n",
    "print(len(df_bc_2019_2020))\n",
    "df_bc_2019_2020.columns"
   ]
  },
  {
   "cell_type": "code",
   "execution_count": 53,
   "id": "df36701e",
   "metadata": {},
   "outputs": [
    {
     "data": {
      "text/html": [
       "<div>\n",
       "<style scoped>\n",
       "    .dataframe tbody tr th:only-of-type {\n",
       "        vertical-align: middle;\n",
       "    }\n",
       "\n",
       "    .dataframe tbody tr th {\n",
       "        vertical-align: top;\n",
       "    }\n",
       "\n",
       "    .dataframe thead th {\n",
       "        text-align: right;\n",
       "    }\n",
       "</style>\n",
       "<table border=\"1\" class=\"dataframe\">\n",
       "  <thead>\n",
       "    <tr style=\"text-align: right;\">\n",
       "      <th></th>\n",
       "      <th>year</th>\n",
       "      <th>mes</th>\n",
       "      <th>Día</th>\n",
       "      <th>1.Dólar observado</th>\n",
       "    </tr>\n",
       "  </thead>\n",
       "  <tbody>\n",
       "    <tr>\n",
       "      <th>0</th>\n",
       "      <td>2019</td>\n",
       "      <td>1</td>\n",
       "      <td>1</td>\n",
       "      <td>NaN</td>\n",
       "    </tr>\n",
       "    <tr>\n",
       "      <th>1</th>\n",
       "      <td>2019</td>\n",
       "      <td>1</td>\n",
       "      <td>2</td>\n",
       "      <td>694.77</td>\n",
       "    </tr>\n",
       "    <tr>\n",
       "      <th>2</th>\n",
       "      <td>2019</td>\n",
       "      <td>1</td>\n",
       "      <td>3</td>\n",
       "      <td>697.09</td>\n",
       "    </tr>\n",
       "    <tr>\n",
       "      <th>3</th>\n",
       "      <td>2019</td>\n",
       "      <td>1</td>\n",
       "      <td>4</td>\n",
       "      <td>697.64</td>\n",
       "    </tr>\n",
       "    <tr>\n",
       "      <th>4</th>\n",
       "      <td>2019</td>\n",
       "      <td>1</td>\n",
       "      <td>5</td>\n",
       "      <td>NaN</td>\n",
       "    </tr>\n",
       "    <tr>\n",
       "      <th>...</th>\n",
       "      <td>...</td>\n",
       "      <td>...</td>\n",
       "      <td>...</td>\n",
       "      <td>...</td>\n",
       "    </tr>\n",
       "    <tr>\n",
       "      <th>361</th>\n",
       "      <td>2020</td>\n",
       "      <td>12</td>\n",
       "      <td>27</td>\n",
       "      <td>NaN</td>\n",
       "    </tr>\n",
       "    <tr>\n",
       "      <th>362</th>\n",
       "      <td>2020</td>\n",
       "      <td>12</td>\n",
       "      <td>28</td>\n",
       "      <td>710.26</td>\n",
       "    </tr>\n",
       "    <tr>\n",
       "      <th>363</th>\n",
       "      <td>2020</td>\n",
       "      <td>12</td>\n",
       "      <td>29</td>\n",
       "      <td>710.64</td>\n",
       "    </tr>\n",
       "    <tr>\n",
       "      <th>364</th>\n",
       "      <td>2020</td>\n",
       "      <td>12</td>\n",
       "      <td>30</td>\n",
       "      <td>711.24</td>\n",
       "    </tr>\n",
       "    <tr>\n",
       "      <th>365</th>\n",
       "      <td>2020</td>\n",
       "      <td>12</td>\n",
       "      <td>31</td>\n",
       "      <td>NaN</td>\n",
       "    </tr>\n",
       "  </tbody>\n",
       "</table>\n",
       "<p>731 rows × 4 columns</p>\n",
       "</div>"
      ],
      "text/plain": [
       "     year  mes  Día  1.Dólar observado\n",
       "0    2019    1    1                NaN\n",
       "1    2019    1    2             694.77\n",
       "2    2019    1    3             697.09\n",
       "3    2019    1    4             697.64\n",
       "4    2019    1    5                NaN\n",
       "..    ...  ...  ...                ...\n",
       "361  2020   12   27                NaN\n",
       "362  2020   12   28             710.26\n",
       "363  2020   12   29             710.64\n",
       "364  2020   12   30             711.24\n",
       "365  2020   12   31                NaN\n",
       "\n",
       "[731 rows x 4 columns]"
      ]
     },
     "execution_count": 53,
     "metadata": {},
     "output_type": "execute_result"
    }
   ],
   "source": [
    "# Limpiendo el Dataframe, se eliminia la columna Unnamed\n",
    "\n",
    "df_bc_2019_2020.drop(columns=['Unnamed: 0'])"
   ]
  },
  {
   "cell_type": "markdown",
   "id": "e30014de",
   "metadata": {},
   "source": [
    "### Compara los valores de df_bc_2019_2020 y df_sii. ¿Son iguales o diferentes?"
   ]
  },
  {
   "cell_type": "code",
   "execution_count": 54,
   "id": "d516b24c",
   "metadata": {},
   "outputs": [
    {
     "name": "stdout",
     "output_type": "stream",
     "text": [
      "731\n"
     ]
    },
    {
     "data": {
      "text/html": [
       "<div>\n",
       "<style scoped>\n",
       "    .dataframe tbody tr th:only-of-type {\n",
       "        vertical-align: middle;\n",
       "    }\n",
       "\n",
       "    .dataframe tbody tr th {\n",
       "        vertical-align: top;\n",
       "    }\n",
       "\n",
       "    .dataframe thead th {\n",
       "        text-align: right;\n",
       "    }\n",
       "</style>\n",
       "<table border=\"1\" class=\"dataframe\">\n",
       "  <thead>\n",
       "    <tr style=\"text-align: right;\">\n",
       "      <th></th>\n",
       "      <th>year</th>\n",
       "      <th>mes</th>\n",
       "      <th>Día</th>\n",
       "      <th>valor</th>\n",
       "      <th>Dates</th>\n",
       "      <th>dias_de_la_semana</th>\n",
       "    </tr>\n",
       "  </thead>\n",
       "  <tbody>\n",
       "    <tr>\n",
       "      <th>0</th>\n",
       "      <td>2019</td>\n",
       "      <td>1</td>\n",
       "      <td>1</td>\n",
       "      <td>NaN</td>\n",
       "      <td>2019-1-1</td>\n",
       "      <td>Martes</td>\n",
       "    </tr>\n",
       "    <tr>\n",
       "      <th>1</th>\n",
       "      <td>2019</td>\n",
       "      <td>1</td>\n",
       "      <td>2</td>\n",
       "      <td>694.77</td>\n",
       "      <td>2019-1-2</td>\n",
       "      <td>Miércoles</td>\n",
       "    </tr>\n",
       "    <tr>\n",
       "      <th>2</th>\n",
       "      <td>2019</td>\n",
       "      <td>1</td>\n",
       "      <td>3</td>\n",
       "      <td>697.09</td>\n",
       "      <td>2019-1-3</td>\n",
       "      <td>Jueves</td>\n",
       "    </tr>\n",
       "  </tbody>\n",
       "</table>\n",
       "</div>"
      ],
      "text/plain": [
       "   year mes  Día   valor     Dates dias_de_la_semana\n",
       "0  2019   1    1     NaN  2019-1-1            Martes\n",
       "1  2019   1    2  694.77  2019-1-2         Miércoles\n",
       "2  2019   1    3  697.09  2019-1-3            Jueves"
      ]
     },
     "execution_count": 54,
     "metadata": {},
     "output_type": "execute_result"
    }
   ],
   "source": [
    "#El dataframe df_sii filtrado, eliminando los valores que no existen por calendario es ahora llamado df_sii_fil2\n",
    "\n",
    "print(len(df_sii_fil2))\n",
    "df_sii_fil2.head(3)"
   ]
  },
  {
   "cell_type": "code",
   "execution_count": 55,
   "id": "7377cb98",
   "metadata": {},
   "outputs": [
    {
     "name": "stdout",
     "output_type": "stream",
     "text": [
      "731\n"
     ]
    },
    {
     "data": {
      "text/html": [
       "<div>\n",
       "<style scoped>\n",
       "    .dataframe tbody tr th:only-of-type {\n",
       "        vertical-align: middle;\n",
       "    }\n",
       "\n",
       "    .dataframe tbody tr th {\n",
       "        vertical-align: top;\n",
       "    }\n",
       "\n",
       "    .dataframe thead th {\n",
       "        text-align: right;\n",
       "    }\n",
       "</style>\n",
       "<table border=\"1\" class=\"dataframe\">\n",
       "  <thead>\n",
       "    <tr style=\"text-align: right;\">\n",
       "      <th></th>\n",
       "      <th>year</th>\n",
       "      <th>mes</th>\n",
       "      <th>Día</th>\n",
       "      <th>valor</th>\n",
       "    </tr>\n",
       "  </thead>\n",
       "  <tbody>\n",
       "    <tr>\n",
       "      <th>0</th>\n",
       "      <td>2019</td>\n",
       "      <td>1</td>\n",
       "      <td>1</td>\n",
       "      <td>NaN</td>\n",
       "    </tr>\n",
       "    <tr>\n",
       "      <th>1</th>\n",
       "      <td>2019</td>\n",
       "      <td>1</td>\n",
       "      <td>2</td>\n",
       "      <td>694.77</td>\n",
       "    </tr>\n",
       "    <tr>\n",
       "      <th>2</th>\n",
       "      <td>2019</td>\n",
       "      <td>1</td>\n",
       "      <td>3</td>\n",
       "      <td>697.09</td>\n",
       "    </tr>\n",
       "  </tbody>\n",
       "</table>\n",
       "</div>"
      ],
      "text/plain": [
       "   year mes  Día   valor\n",
       "0  2019   1    1     NaN\n",
       "1  2019   1    2  694.77\n",
       "2  2019   1    3  697.09"
      ]
     },
     "execution_count": 55,
     "metadata": {},
     "output_type": "execute_result"
    }
   ],
   "source": [
    "# Uniformando los dataframes con las mismas columnas y nombres\n",
    "#Transformando dataframe df_sii\n",
    "\n",
    "df_sii_fil3=df_sii_fil2.drop(columns=['Dates','dias_de_la_semana'])\n",
    "print(len(df_sii_fil3))\n",
    "df_sii_fil3.head(3)"
   ]
  },
  {
   "cell_type": "code",
   "execution_count": 56,
   "id": "ea6da852",
   "metadata": {},
   "outputs": [
    {
     "name": "stdout",
     "output_type": "stream",
     "text": [
      "731\n"
     ]
    },
    {
     "data": {
      "text/html": [
       "<div>\n",
       "<style scoped>\n",
       "    .dataframe tbody tr th:only-of-type {\n",
       "        vertical-align: middle;\n",
       "    }\n",
       "\n",
       "    .dataframe tbody tr th {\n",
       "        vertical-align: top;\n",
       "    }\n",
       "\n",
       "    .dataframe thead th {\n",
       "        text-align: right;\n",
       "    }\n",
       "</style>\n",
       "<table border=\"1\" class=\"dataframe\">\n",
       "  <thead>\n",
       "    <tr style=\"text-align: right;\">\n",
       "      <th></th>\n",
       "      <th>year</th>\n",
       "      <th>mes</th>\n",
       "      <th>Día</th>\n",
       "      <th>valor</th>\n",
       "    </tr>\n",
       "  </thead>\n",
       "  <tbody>\n",
       "    <tr>\n",
       "      <th>0</th>\n",
       "      <td>2019</td>\n",
       "      <td>1</td>\n",
       "      <td>1</td>\n",
       "      <td>NaN</td>\n",
       "    </tr>\n",
       "    <tr>\n",
       "      <th>1</th>\n",
       "      <td>2019</td>\n",
       "      <td>1</td>\n",
       "      <td>2</td>\n",
       "      <td>694.77</td>\n",
       "    </tr>\n",
       "    <tr>\n",
       "      <th>2</th>\n",
       "      <td>2019</td>\n",
       "      <td>1</td>\n",
       "      <td>3</td>\n",
       "      <td>697.09</td>\n",
       "    </tr>\n",
       "  </tbody>\n",
       "</table>\n",
       "</div>"
      ],
      "text/plain": [
       "   year  mes  Día   valor\n",
       "0  2019    1    1     NaN\n",
       "1  2019    1    2  694.77\n",
       "2  2019    1    3  697.09"
      ]
     },
     "execution_count": 56,
     "metadata": {},
     "output_type": "execute_result"
    }
   ],
   "source": [
    "#Transformando dataframe df_bc_2019_2020 (Se crea un nuevo dataframe llamdao: df_bc_2019_2020_m1)\n",
    "\n",
    "df_bc_2019_2020_m= df_bc_2019_2020.drop(columns=['Unnamed: 0'])\n",
    "df_bc_2019_2020_m1= df_bc_2019_2020_m.rename(columns={'1.Dólar observado': 'valor'})\n",
    "print(len(df_bc_2019_2020_m1))\n",
    "df_bc_2019_2020_m1.head(3)\n"
   ]
  },
  {
   "cell_type": "code",
   "execution_count": 57,
   "id": "a4670eac",
   "metadata": {},
   "outputs": [
    {
     "name": "stdout",
     "output_type": "stream",
     "text": [
      "<class 'pandas.core.frame.DataFrame'>\n",
      "<class 'pandas.core.frame.DataFrame'>\n",
      "Int64Index: 731 entries, 0 to 743\n",
      "Data columns (total 4 columns):\n",
      " #   Column  Non-Null Count  Dtype  \n",
      "---  ------  --------------  -----  \n",
      " 0   year    731 non-null    int64  \n",
      " 1   mes     731 non-null    int64  \n",
      " 2   Día     731 non-null    int64  \n",
      " 3   valor   499 non-null    float64\n",
      "dtypes: float64(1), int64(3)\n",
      "memory usage: 28.6 KB\n"
     ]
    }
   ],
   "source": [
    "#Uniformando los valores de los dataframes se cambia el formato del mes que era objeto a int\n",
    "\n",
    "df_sii_fil3['mes']=df_sii_fil3['mes'].astype('int64')\n",
    "print(type(df_sii_fil3))\n",
    "df_sii_fil3.info()"
   ]
  },
  {
   "cell_type": "code",
   "execution_count": 58,
   "id": "12a77838",
   "metadata": {},
   "outputs": [
    {
     "name": "stdout",
     "output_type": "stream",
     "text": [
      "<class 'pandas.core.frame.DataFrame'>\n",
      "<class 'pandas.core.frame.DataFrame'>\n",
      "Int64Index: 731 entries, 0 to 365\n",
      "Data columns (total 4 columns):\n",
      " #   Column  Non-Null Count  Dtype  \n",
      "---  ------  --------------  -----  \n",
      " 0   year    731 non-null    int64  \n",
      " 1   mes     731 non-null    int64  \n",
      " 2   Día     731 non-null    int64  \n",
      " 3   valor   499 non-null    float64\n",
      "dtypes: float64(1), int64(3)\n",
      "memory usage: 28.6 KB\n"
     ]
    }
   ],
   "source": [
    "#Se revisa la informacion del dataframe df_bc_2019_2020_m1 para asegurar que sean comparables\n",
    "print(type(df_bc_2019_2020_m1))\n",
    "df_bc_2019_2020_m1.info()"
   ]
  },
  {
   "cell_type": "code",
   "execution_count": 59,
   "id": "fb7cba78",
   "metadata": {},
   "outputs": [
    {
     "name": "stdout",
     "output_type": "stream",
     "text": [
      "(731, 4)\n",
      "(731, 4)\n"
     ]
    }
   ],
   "source": [
    "#Se revisa que tengan las mismas dimensiones\n",
    "\n",
    "print(df_sii_fil3.shape)\n",
    "print(df_bc_2019_2020_m1.shape)\n"
   ]
  },
  {
   "cell_type": "code",
   "execution_count": 60,
   "id": "6f9045f6",
   "metadata": {},
   "outputs": [
    {
     "data": {
      "text/html": [
       "<div>\n",
       "<style scoped>\n",
       "    .dataframe tbody tr th:only-of-type {\n",
       "        vertical-align: middle;\n",
       "    }\n",
       "\n",
       "    .dataframe tbody tr th {\n",
       "        vertical-align: top;\n",
       "    }\n",
       "\n",
       "    .dataframe thead th {\n",
       "        text-align: right;\n",
       "    }\n",
       "</style>\n",
       "<table border=\"1\" class=\"dataframe\">\n",
       "  <thead>\n",
       "    <tr style=\"text-align: right;\">\n",
       "      <th></th>\n",
       "      <th>year</th>\n",
       "      <th>mes</th>\n",
       "      <th>Día</th>\n",
       "      <th>valor</th>\n",
       "    </tr>\n",
       "  </thead>\n",
       "  <tbody>\n",
       "  </tbody>\n",
       "</table>\n",
       "</div>"
      ],
      "text/plain": [
       "Empty DataFrame\n",
       "Columns: [year, mes, Día, valor]\n",
       "Index: []"
      ]
     },
     "execution_count": 60,
     "metadata": {},
     "output_type": "execute_result"
    }
   ],
   "source": [
    "#Utilizamos funcion para encontrar diferencias de las filas de los dataframes\n",
    "\n",
    "def get_different_rows(source_df, new_df):\n",
    "    \"\"\"Retrona las filas del segundo dataframe que son diferentes al inicial\"\"\"\n",
    "    merged_df = source_df.merge(new_df, indicator=True, how='outer')\n",
    "    changed_rows_df = merged_df[merged_df['_merge'] == 'right_only']\n",
    "    return changed_rows_df.drop('_merge', axis=1)\n",
    "\n",
    "get_different_rows(df_sii_fil3, df_bc_2019_2020_m1)"
   ]
  },
  {
   "cell_type": "code",
   "execution_count": 61,
   "id": "2fc2c329",
   "metadata": {},
   "outputs": [
    {
     "name": "stdout",
     "output_type": "stream",
     "text": [
      "<class 'pandas.core.frame.DataFrame'>\n",
      "Int64Index: 0 entries\n",
      "Data columns (total 4 columns):\n",
      " #   Column  Non-Null Count  Dtype  \n",
      "---  ------  --------------  -----  \n",
      " 0   year    0 non-null      int64  \n",
      " 1   mes     0 non-null      int64  \n",
      " 2   Día     0 non-null      int64  \n",
      " 3   valor   0 non-null      float64\n",
      "dtypes: float64(1), int64(3)\n",
      "memory usage: 0.0 bytes\n"
     ]
    }
   ],
   "source": [
    "#Comparar por el metodo duplicate si los dataframes son diferentes\n",
    "\n",
    "df_diff = pd.concat([df_sii_fil3, df_bc_2019_2020_m1]).drop_duplicates(keep= False)\n",
    "df_diff.info()"
   ]
  },
  {
   "cell_type": "markdown",
   "id": "b607e81c",
   "metadata": {},
   "source": [
    "### Compara los valores de df_bc_2019_2020 y df_sii. ¿Son iguales o diferentes?\n"
   ]
  },
  {
   "cell_type": "markdown",
   "id": "fb250283",
   "metadata": {},
   "source": [
    "#### Una vez que limpiamos los dataframes y comparamos los valores, podemos observar que son iguales."
   ]
  },
  {
   "cell_type": "markdown",
   "id": "c94b358f",
   "metadata": {},
   "source": [
    "### 4. Haz un merge de la columna dia_de_la_semana del df_sii al dataframe df_bc_all. "
   ]
  },
  {
   "cell_type": "code",
   "execution_count": 62,
   "id": "5ed60798",
   "metadata": {},
   "outputs": [
    {
     "name": "stdout",
     "output_type": "stream",
     "text": [
      "(744, 4)\n",
      "(14633, 4)\n"
     ]
    }
   ],
   "source": [
    "#Visualizando Shape de Dataframes\n",
    "\n",
    "print(df_sii.shape)\n",
    "print(df_bc_all.shape)"
   ]
  },
  {
   "cell_type": "code",
   "execution_count": 63,
   "id": "da2540a2",
   "metadata": {},
   "outputs": [
    {
     "name": "stdout",
     "output_type": "stream",
     "text": [
      "<class 'pandas.core.frame.DataFrame'>\n",
      "Int64Index: 731 entries, 0 to 743\n",
      "Data columns (total 5 columns):\n",
      " #   Column             Non-Null Count  Dtype  \n",
      "---  ------             --------------  -----  \n",
      " 0   year               731 non-null    int64  \n",
      " 1   mes                731 non-null    int64  \n",
      " 2   Día                731 non-null    int64  \n",
      " 3   valor              499 non-null    float64\n",
      " 4   dias_de_la_semana  731 non-null    object \n",
      "dtypes: float64(1), int64(3), object(1)\n",
      "memory usage: 34.3+ KB\n"
     ]
    }
   ],
   "source": [
    "#Visualizando tipos de datos Dataframe Sii y uniformando para hacerlos compatibles\n",
    "\n",
    "df_sii_dias_final['mes']=df_sii_dias_final['mes'].astype('int64')\n",
    "df_sii_dias_final.info()"
   ]
  },
  {
   "cell_type": "code",
   "execution_count": 64,
   "id": "3edec556",
   "metadata": {},
   "outputs": [
    {
     "name": "stdout",
     "output_type": "stream",
     "text": [
      "<class 'pandas.core.frame.DataFrame'>\n",
      "Int64Index: 14633 entries, 0 to 973\n",
      "Data columns (total 4 columns):\n",
      " #   Column  Non-Null Count  Dtype  \n",
      "---  ------  --------------  -----  \n",
      " 0   year    14633 non-null  int64  \n",
      " 1   mes     14633 non-null  int64  \n",
      " 2   Día     14633 non-null  int64  \n",
      " 3   valor   9997 non-null   float64\n",
      "dtypes: float64(1), int64(3)\n",
      "memory usage: 571.6 KB\n"
     ]
    }
   ],
   "source": [
    "#Visualizando tipos de datos Dataframe df_bc_all y uniformando para hacerlos compatibles\n",
    "\n",
    "df_bc_all.head(3)\n",
    "df_bc_final= df_bc_all.rename(columns={'1.Dólar observado': 'valor'})\n",
    "df_bc_final.head(3)\n",
    "df_bc_final.info()"
   ]
  },
  {
   "cell_type": "code",
   "execution_count": 65,
   "id": "6a8478c9",
   "metadata": {},
   "outputs": [
    {
     "data": {
      "text/html": [
       "<div>\n",
       "<style scoped>\n",
       "    .dataframe tbody tr th:only-of-type {\n",
       "        vertical-align: middle;\n",
       "    }\n",
       "\n",
       "    .dataframe tbody tr th {\n",
       "        vertical-align: top;\n",
       "    }\n",
       "\n",
       "    .dataframe thead th {\n",
       "        text-align: right;\n",
       "    }\n",
       "</style>\n",
       "<table border=\"1\" class=\"dataframe\">\n",
       "  <thead>\n",
       "    <tr style=\"text-align: right;\">\n",
       "      <th></th>\n",
       "      <th>year</th>\n",
       "      <th>mes</th>\n",
       "      <th>Día</th>\n",
       "      <th>valor</th>\n",
       "      <th>dias_de_la_semana</th>\n",
       "    </tr>\n",
       "  </thead>\n",
       "  <tbody>\n",
       "    <tr>\n",
       "      <th>0</th>\n",
       "      <td>2019</td>\n",
       "      <td>1</td>\n",
       "      <td>1</td>\n",
       "      <td>NaN</td>\n",
       "      <td>Martes</td>\n",
       "    </tr>\n",
       "    <tr>\n",
       "      <th>1</th>\n",
       "      <td>2019</td>\n",
       "      <td>1</td>\n",
       "      <td>2</td>\n",
       "      <td>694.77</td>\n",
       "      <td>Miércoles</td>\n",
       "    </tr>\n",
       "    <tr>\n",
       "      <th>2</th>\n",
       "      <td>2019</td>\n",
       "      <td>1</td>\n",
       "      <td>3</td>\n",
       "      <td>697.09</td>\n",
       "      <td>Jueves</td>\n",
       "    </tr>\n",
       "  </tbody>\n",
       "</table>\n",
       "</div>"
      ],
      "text/plain": [
       "   year  mes  Día   valor dias_de_la_semana\n",
       "0  2019    1    1     NaN            Martes\n",
       "1  2019    1    2  694.77         Miércoles\n",
       "2  2019    1    3  697.09            Jueves"
      ]
     },
     "execution_count": 65,
     "metadata": {},
     "output_type": "execute_result"
    }
   ],
   "source": [
    "# Uniendo los dataframes desde df_sii: se observa que Sii esté contenido en df_bc_all y queda como resultado el dataframe sii\n",
    "\n",
    "df_final_m=pd.merge(df_sii_dias_final, df_bc_final)\n",
    "df_final_m.head(3)"
   ]
  },
  {
   "cell_type": "code",
   "execution_count": 66,
   "id": "7c1c23c9",
   "metadata": {},
   "outputs": [
    {
     "name": "stdout",
     "output_type": "stream",
     "text": [
      "<class 'pandas.core.frame.DataFrame'>\n",
      "Int64Index: 14633 entries, 0 to 14632\n",
      "Data columns (total 5 columns):\n",
      " #   Column             Non-Null Count  Dtype  \n",
      "---  ------             --------------  -----  \n",
      " 0   year               14633 non-null  int64  \n",
      " 1   mes                14633 non-null  int64  \n",
      " 2   Día                14633 non-null  int64  \n",
      " 3   valor              9997 non-null   float64\n",
      " 4   dias_de_la_semana  731 non-null    object \n",
      "dtypes: float64(1), int64(3), object(1)\n",
      "memory usage: 685.9+ KB\n",
      "None\n"
     ]
    },
    {
     "data": {
      "text/html": [
       "<div>\n",
       "<style scoped>\n",
       "    .dataframe tbody tr th:only-of-type {\n",
       "        vertical-align: middle;\n",
       "    }\n",
       "\n",
       "    .dataframe tbody tr th {\n",
       "        vertical-align: top;\n",
       "    }\n",
       "\n",
       "    .dataframe thead th {\n",
       "        text-align: right;\n",
       "    }\n",
       "</style>\n",
       "<table border=\"1\" class=\"dataframe\">\n",
       "  <thead>\n",
       "    <tr style=\"text-align: right;\">\n",
       "      <th></th>\n",
       "      <th>year</th>\n",
       "      <th>mes</th>\n",
       "      <th>Día</th>\n",
       "      <th>valor</th>\n",
       "      <th>dias_de_la_semana</th>\n",
       "    </tr>\n",
       "  </thead>\n",
       "  <tbody>\n",
       "    <tr>\n",
       "      <th>0</th>\n",
       "      <td>1982</td>\n",
       "      <td>8</td>\n",
       "      <td>9</td>\n",
       "      <td>55.65</td>\n",
       "      <td>NaN</td>\n",
       "    </tr>\n",
       "    <tr>\n",
       "      <th>1</th>\n",
       "      <td>1982</td>\n",
       "      <td>8</td>\n",
       "      <td>10</td>\n",
       "      <td>62.79</td>\n",
       "      <td>NaN</td>\n",
       "    </tr>\n",
       "    <tr>\n",
       "      <th>2</th>\n",
       "      <td>1982</td>\n",
       "      <td>8</td>\n",
       "      <td>11</td>\n",
       "      <td>64.07</td>\n",
       "      <td>NaN</td>\n",
       "    </tr>\n",
       "  </tbody>\n",
       "</table>\n",
       "</div>"
      ],
      "text/plain": [
       "   year  mes  Día  valor dias_de_la_semana\n",
       "0  1982    8    9  55.65               NaN\n",
       "1  1982    8   10  62.79               NaN\n",
       "2  1982    8   11  64.07               NaN"
      ]
     },
     "execution_count": 66,
     "metadata": {},
     "output_type": "execute_result"
    }
   ],
   "source": [
    "# Uniendo el dataframe df_bc_final con df_sii, usando Merge, se agrega la columna 'dias_de_la_semana' , cuyos valores que no existen en df_bc_final quedan con valores nulos\n",
    "\n",
    "df_final=pd.merge( df_bc_final, df_sii_dias_final,  how='left', sort= False)\n",
    "print(df_final.info())\n",
    "df_final.head(3)\n"
   ]
  },
  {
   "cell_type": "markdown",
   "id": "406f72bc",
   "metadata": {},
   "source": [
    "Los valores no nulos de días de la semana corresponden a los valores del df_sii\n",
    "\n",
    "Para agregar los valores de los días de la semana se agrega la columna fecha\n",
    "\n"
   ]
  },
  {
   "cell_type": "markdown",
   "id": "95778fe3",
   "metadata": {},
   "source": [
    "### 4.  Luego, extiende la variable dia_de_la_semana para todos los valores."
   ]
  },
  {
   "cell_type": "code",
   "execution_count": 67,
   "id": "7d05e31e",
   "metadata": {},
   "outputs": [
    {
     "name": "stdout",
     "output_type": "stream",
     "text": [
      "14633\n"
     ]
    },
    {
     "data": {
      "text/html": [
       "<div>\n",
       "<style scoped>\n",
       "    .dataframe tbody tr th:only-of-type {\n",
       "        vertical-align: middle;\n",
       "    }\n",
       "\n",
       "    .dataframe tbody tr th {\n",
       "        vertical-align: top;\n",
       "    }\n",
       "\n",
       "    .dataframe thead th {\n",
       "        text-align: right;\n",
       "    }\n",
       "</style>\n",
       "<table border=\"1\" class=\"dataframe\">\n",
       "  <thead>\n",
       "    <tr style=\"text-align: right;\">\n",
       "      <th></th>\n",
       "      <th>year</th>\n",
       "      <th>mes</th>\n",
       "      <th>Día</th>\n",
       "      <th>valor</th>\n",
       "      <th>dias_de_la_semana</th>\n",
       "      <th>Dates</th>\n",
       "    </tr>\n",
       "  </thead>\n",
       "  <tbody>\n",
       "    <tr>\n",
       "      <th>0</th>\n",
       "      <td>1982</td>\n",
       "      <td>8</td>\n",
       "      <td>9</td>\n",
       "      <td>55.65</td>\n",
       "      <td>NaN</td>\n",
       "      <td>1982-8-9</td>\n",
       "    </tr>\n",
       "    <tr>\n",
       "      <th>1</th>\n",
       "      <td>1982</td>\n",
       "      <td>8</td>\n",
       "      <td>10</td>\n",
       "      <td>62.79</td>\n",
       "      <td>NaN</td>\n",
       "      <td>1982-8-10</td>\n",
       "    </tr>\n",
       "    <tr>\n",
       "      <th>2</th>\n",
       "      <td>1982</td>\n",
       "      <td>8</td>\n",
       "      <td>11</td>\n",
       "      <td>64.07</td>\n",
       "      <td>NaN</td>\n",
       "      <td>1982-8-11</td>\n",
       "    </tr>\n",
       "  </tbody>\n",
       "</table>\n",
       "</div>"
      ],
      "text/plain": [
       "   year  mes  Día  valor dias_de_la_semana      Dates\n",
       "0  1982    8    9  55.65               NaN   1982-8-9\n",
       "1  1982    8   10  62.79               NaN  1982-8-10\n",
       "2  1982    8   11  64.07               NaN  1982-8-11"
      ]
     },
     "execution_count": 67,
     "metadata": {},
     "output_type": "execute_result"
    }
   ],
   "source": [
    "#Creando columna fecha en df_final\n",
    "\n",
    "df_final['Dates'] = df_final['year'].astype(str)+'-'+ df_final['mes'].astype(str) +'-'+ df_final['Día'].astype(str)\n",
    "print(len(df_final))\n",
    "df_final.head(3)"
   ]
  },
  {
   "cell_type": "code",
   "execution_count": 68,
   "id": "7e3fca40",
   "metadata": {},
   "outputs": [
    {
     "data": {
      "text/html": [
       "<div>\n",
       "<style scoped>\n",
       "    .dataframe tbody tr th:only-of-type {\n",
       "        vertical-align: middle;\n",
       "    }\n",
       "\n",
       "    .dataframe tbody tr th {\n",
       "        vertical-align: top;\n",
       "    }\n",
       "\n",
       "    .dataframe thead th {\n",
       "        text-align: right;\n",
       "    }\n",
       "</style>\n",
       "<table border=\"1\" class=\"dataframe\">\n",
       "  <thead>\n",
       "    <tr style=\"text-align: right;\">\n",
       "      <th></th>\n",
       "      <th>Dates</th>\n",
       "      <th>dias_de_la_semana</th>\n",
       "    </tr>\n",
       "  </thead>\n",
       "  <tbody>\n",
       "    <tr>\n",
       "      <th>0</th>\n",
       "      <td>1982-08-09</td>\n",
       "      <td>Monday</td>\n",
       "    </tr>\n",
       "    <tr>\n",
       "      <th>1</th>\n",
       "      <td>1982-08-10</td>\n",
       "      <td>Tuesday</td>\n",
       "    </tr>\n",
       "    <tr>\n",
       "      <th>2</th>\n",
       "      <td>1982-08-11</td>\n",
       "      <td>Wednesday</td>\n",
       "    </tr>\n",
       "  </tbody>\n",
       "</table>\n",
       "</div>"
      ],
      "text/plain": [
       "       Dates dias_de_la_semana\n",
       "0 1982-08-09            Monday\n",
       "1 1982-08-10           Tuesday\n",
       "2 1982-08-11         Wednesday"
      ]
     },
     "execution_count": 68,
     "metadata": {},
     "output_type": "execute_result"
    }
   ],
   "source": [
    "# Creando los días de la semana a partir de la fecha\n",
    "\n",
    "def date (Dates):\n",
    "    for date in df_final:\n",
    "        date = pd.DataFrame({'Dates':df_final['Dates']}) \n",
    "        date['Dates'] = pd.to_datetime(date['Dates']) \n",
    "        date['dias_de_la_semana'] = date['Dates'].dt.day_name() \n",
    "    return (date)\n",
    "\n",
    "dias= date(df_final.Dates)\n",
    "dias.head(3)"
   ]
  },
  {
   "cell_type": "code",
   "execution_count": 69,
   "id": "d7dba3c8",
   "metadata": {},
   "outputs": [
    {
     "name": "stdout",
     "output_type": "stream",
     "text": [
      "   year  mes  Día  valor dias_de_la_semana      Dates dias_de_la_semana_2\n",
      "0  1982    8    9  55.65               NaN   1982-8-9              Monday\n",
      "1  1982    8   10  62.79               NaN  1982-8-10             Tuesday\n",
      "2  1982    8   11  64.07               NaN  1982-8-11           Wednesday\n"
     ]
    },
    {
     "data": {
      "text/html": [
       "<div>\n",
       "<style scoped>\n",
       "    .dataframe tbody tr th:only-of-type {\n",
       "        vertical-align: middle;\n",
       "    }\n",
       "\n",
       "    .dataframe tbody tr th {\n",
       "        vertical-align: top;\n",
       "    }\n",
       "\n",
       "    .dataframe thead th {\n",
       "        text-align: right;\n",
       "    }\n",
       "</style>\n",
       "<table border=\"1\" class=\"dataframe\">\n",
       "  <thead>\n",
       "    <tr style=\"text-align: right;\">\n",
       "      <th></th>\n",
       "      <th>year</th>\n",
       "      <th>mes</th>\n",
       "      <th>Día</th>\n",
       "      <th>valor</th>\n",
       "      <th>Dates</th>\n",
       "      <th>dias_de_la_semana_2</th>\n",
       "    </tr>\n",
       "  </thead>\n",
       "  <tbody>\n",
       "    <tr>\n",
       "      <th>0</th>\n",
       "      <td>1982</td>\n",
       "      <td>8</td>\n",
       "      <td>9</td>\n",
       "      <td>55.65</td>\n",
       "      <td>1982-8-9</td>\n",
       "      <td>Monday</td>\n",
       "    </tr>\n",
       "    <tr>\n",
       "      <th>1</th>\n",
       "      <td>1982</td>\n",
       "      <td>8</td>\n",
       "      <td>10</td>\n",
       "      <td>62.79</td>\n",
       "      <td>1982-8-10</td>\n",
       "      <td>Tuesday</td>\n",
       "    </tr>\n",
       "    <tr>\n",
       "      <th>2</th>\n",
       "      <td>1982</td>\n",
       "      <td>8</td>\n",
       "      <td>11</td>\n",
       "      <td>64.07</td>\n",
       "      <td>1982-8-11</td>\n",
       "      <td>Wednesday</td>\n",
       "    </tr>\n",
       "  </tbody>\n",
       "</table>\n",
       "</div>"
      ],
      "text/plain": [
       "   year  mes  Día  valor      Dates dias_de_la_semana_2\n",
       "0  1982    8    9  55.65   1982-8-9              Monday\n",
       "1  1982    8   10  62.79  1982-8-10             Tuesday\n",
       "2  1982    8   11  64.07  1982-8-11           Wednesday"
      ]
     },
     "execution_count": 69,
     "metadata": {},
     "output_type": "execute_result"
    }
   ],
   "source": [
    "#Agregando dias de la semana al dataframe\n",
    "\n",
    "df_final['dias_de_la_semana_2']= dias['dias_de_la_semana']\n",
    "print(df_final.head(3))\n",
    "\n",
    "df_final_dias=df_final.drop(columns=['dias_de_la_semana'])\n",
    "df_final_dias.head(3)"
   ]
  },
  {
   "cell_type": "markdown",
   "id": "534931aa",
   "metadata": {},
   "source": [
    "### Finalmente, crea una variable con las combinaciones [dia,mes] que tienen al menos un NaN que sea en día de semana (es decir, excluyendo Sábado y Domingo). "
   ]
  },
  {
   "cell_type": "code",
   "execution_count": 70,
   "id": "496ec910",
   "metadata": {},
   "outputs": [
    {
     "data": {
      "text/html": [
       "<div>\n",
       "<style scoped>\n",
       "    .dataframe tbody tr th:only-of-type {\n",
       "        vertical-align: middle;\n",
       "    }\n",
       "\n",
       "    .dataframe tbody tr th {\n",
       "        vertical-align: top;\n",
       "    }\n",
       "\n",
       "    .dataframe thead th {\n",
       "        text-align: right;\n",
       "    }\n",
       "</style>\n",
       "<table border=\"1\" class=\"dataframe\">\n",
       "  <thead>\n",
       "    <tr style=\"text-align: right;\">\n",
       "      <th></th>\n",
       "      <th>year</th>\n",
       "      <th>mes</th>\n",
       "      <th>Día</th>\n",
       "      <th>valor</th>\n",
       "      <th>Dates</th>\n",
       "      <th>dias_de_la_semana_2</th>\n",
       "      <th>dia , mes</th>\n",
       "    </tr>\n",
       "  </thead>\n",
       "  <tbody>\n",
       "    <tr>\n",
       "      <th>0</th>\n",
       "      <td>1982</td>\n",
       "      <td>8</td>\n",
       "      <td>9</td>\n",
       "      <td>55.65</td>\n",
       "      <td>1982-8-9</td>\n",
       "      <td>Monday</td>\n",
       "      <td>9,8</td>\n",
       "    </tr>\n",
       "    <tr>\n",
       "      <th>1</th>\n",
       "      <td>1982</td>\n",
       "      <td>8</td>\n",
       "      <td>10</td>\n",
       "      <td>62.79</td>\n",
       "      <td>1982-8-10</td>\n",
       "      <td>Tuesday</td>\n",
       "      <td>10,8</td>\n",
       "    </tr>\n",
       "    <tr>\n",
       "      <th>2</th>\n",
       "      <td>1982</td>\n",
       "      <td>8</td>\n",
       "      <td>11</td>\n",
       "      <td>64.07</td>\n",
       "      <td>1982-8-11</td>\n",
       "      <td>Wednesday</td>\n",
       "      <td>11,8</td>\n",
       "    </tr>\n",
       "  </tbody>\n",
       "</table>\n",
       "</div>"
      ],
      "text/plain": [
       "   year  mes  Día  valor      Dates dias_de_la_semana_2 dia , mes\n",
       "0  1982    8    9  55.65   1982-8-9              Monday       9,8\n",
       "1  1982    8   10  62.79  1982-8-10             Tuesday      10,8\n",
       "2  1982    8   11  64.07  1982-8-11           Wednesday      11,8"
      ]
     },
     "execution_count": 70,
     "metadata": {},
     "output_type": "execute_result"
    }
   ],
   "source": [
    "#Creando Variable dia,mes\n",
    "\n",
    "df_final_dias['dia , mes']= df_final_dias['Día'].astype(str) + ',' + df_final_dias['mes'].astype(str)\n",
    "df_final_dias.head(3)"
   ]
  },
  {
   "cell_type": "code",
   "execution_count": 71,
   "id": "3bc3c58a",
   "metadata": {},
   "outputs": [
    {
     "data": {
      "text/html": [
       "<div>\n",
       "<style scoped>\n",
       "    .dataframe tbody tr th:only-of-type {\n",
       "        vertical-align: middle;\n",
       "    }\n",
       "\n",
       "    .dataframe tbody tr th {\n",
       "        vertical-align: top;\n",
       "    }\n",
       "\n",
       "    .dataframe thead th {\n",
       "        text-align: right;\n",
       "    }\n",
       "</style>\n",
       "<table border=\"1\" class=\"dataframe\">\n",
       "  <thead>\n",
       "    <tr style=\"text-align: right;\">\n",
       "      <th></th>\n",
       "      <th>year</th>\n",
       "      <th>mes</th>\n",
       "      <th>Día</th>\n",
       "      <th>valor</th>\n",
       "      <th>Dates</th>\n",
       "      <th>dias_de_la_semana_2</th>\n",
       "      <th>dia , mes</th>\n",
       "      <th>dias_numero</th>\n",
       "    </tr>\n",
       "  </thead>\n",
       "  <tbody>\n",
       "    <tr>\n",
       "      <th>0</th>\n",
       "      <td>1982</td>\n",
       "      <td>8</td>\n",
       "      <td>9</td>\n",
       "      <td>55.65</td>\n",
       "      <td>1982-8-9</td>\n",
       "      <td>Monday</td>\n",
       "      <td>9,8</td>\n",
       "      <td>1</td>\n",
       "    </tr>\n",
       "    <tr>\n",
       "      <th>1</th>\n",
       "      <td>1982</td>\n",
       "      <td>8</td>\n",
       "      <td>10</td>\n",
       "      <td>62.79</td>\n",
       "      <td>1982-8-10</td>\n",
       "      <td>Tuesday</td>\n",
       "      <td>10,8</td>\n",
       "      <td>2</td>\n",
       "    </tr>\n",
       "    <tr>\n",
       "      <th>2</th>\n",
       "      <td>1982</td>\n",
       "      <td>8</td>\n",
       "      <td>11</td>\n",
       "      <td>64.07</td>\n",
       "      <td>1982-8-11</td>\n",
       "      <td>Wednesday</td>\n",
       "      <td>11,8</td>\n",
       "      <td>3</td>\n",
       "    </tr>\n",
       "  </tbody>\n",
       "</table>\n",
       "</div>"
      ],
      "text/plain": [
       "   year  mes  Día  valor      Dates dias_de_la_semana_2 dia , mes dias_numero\n",
       "0  1982    8    9  55.65   1982-8-9              Monday       9,8           1\n",
       "1  1982    8   10  62.79  1982-8-10             Tuesday      10,8           2\n",
       "2  1982    8   11  64.07  1982-8-11           Wednesday      11,8           3"
      ]
     },
     "execution_count": 71,
     "metadata": {},
     "output_type": "execute_result"
    }
   ],
   "source": [
    "#creando columna para facilitar la busqueda\n",
    "\n",
    "df_final_dias['dias_numero'] = df_final_dias.dias_de_la_semana_2.replace(['Monday','Tuesday','Wednesday', 'Thursday', 'Friday','Saturday','Sunday'], ['1', '2','3', '4', '5', '6','7' ])\n",
    "df_final_dias.head(3)"
   ]
  },
  {
   "cell_type": "code",
   "execution_count": 72,
   "id": "52a6d35e",
   "metadata": {},
   "outputs": [
    {
     "data": {
      "text/html": [
       "<div>\n",
       "<style scoped>\n",
       "    .dataframe tbody tr th:only-of-type {\n",
       "        vertical-align: middle;\n",
       "    }\n",
       "\n",
       "    .dataframe tbody tr th {\n",
       "        vertical-align: top;\n",
       "    }\n",
       "\n",
       "    .dataframe thead th {\n",
       "        text-align: right;\n",
       "    }\n",
       "</style>\n",
       "<table border=\"1\" class=\"dataframe\">\n",
       "  <thead>\n",
       "    <tr style=\"text-align: right;\">\n",
       "      <th></th>\n",
       "      <th>year</th>\n",
       "      <th>mes</th>\n",
       "      <th>Día</th>\n",
       "      <th>valor</th>\n",
       "      <th>Dates</th>\n",
       "      <th>dias_de_la_semana_2</th>\n",
       "      <th>dia , mes</th>\n",
       "      <th>dias_numero</th>\n",
       "    </tr>\n",
       "  </thead>\n",
       "  <tbody>\n",
       "    <tr>\n",
       "      <th>5</th>\n",
       "      <td>1982</td>\n",
       "      <td>8</td>\n",
       "      <td>14</td>\n",
       "      <td>NaN</td>\n",
       "      <td>1982-8-14</td>\n",
       "      <td>Saturday</td>\n",
       "      <td>14,8</td>\n",
       "      <td>6</td>\n",
       "    </tr>\n",
       "    <tr>\n",
       "      <th>6</th>\n",
       "      <td>1982</td>\n",
       "      <td>8</td>\n",
       "      <td>15</td>\n",
       "      <td>NaN</td>\n",
       "      <td>1982-8-15</td>\n",
       "      <td>Sunday</td>\n",
       "      <td>15,8</td>\n",
       "      <td>7</td>\n",
       "    </tr>\n",
       "    <tr>\n",
       "      <th>12</th>\n",
       "      <td>1982</td>\n",
       "      <td>8</td>\n",
       "      <td>21</td>\n",
       "      <td>NaN</td>\n",
       "      <td>1982-8-21</td>\n",
       "      <td>Saturday</td>\n",
       "      <td>21,8</td>\n",
       "      <td>6</td>\n",
       "    </tr>\n",
       "  </tbody>\n",
       "</table>\n",
       "</div>"
      ],
      "text/plain": [
       "    year  mes  Día  valor      Dates dias_de_la_semana_2 dia , mes dias_numero\n",
       "5   1982    8   14    NaN  1982-8-14            Saturday      14,8           6\n",
       "6   1982    8   15    NaN  1982-8-15              Sunday      15,8           7\n",
       "12  1982    8   21    NaN  1982-8-21            Saturday      21,8           6"
      ]
     },
     "execution_count": 72,
     "metadata": {},
     "output_type": "execute_result"
    }
   ],
   "source": [
    "# Creando dataframe solo con valores nulos \n",
    "\n",
    "df_NaN= df_final_dias[df_final_dias['valor'].isnull()]\n",
    "df_NaN.head(3)"
   ]
  },
  {
   "cell_type": "code",
   "execution_count": 73,
   "id": "75dd50d2",
   "metadata": {},
   "outputs": [
    {
     "data": {
      "text/plain": [
       "Index(['year', 'mes', 'Día', 'valor', 'Dates', 'dias_de_la_semana_2',\n",
       "       'dia , mes', 'dias_numero'],\n",
       "      dtype='object')"
      ]
     },
     "execution_count": 73,
     "metadata": {},
     "output_type": "execute_result"
    }
   ],
   "source": [
    "df_NaN.columns\n"
   ]
  },
  {
   "cell_type": "code",
   "execution_count": 84,
   "id": "959a9b31",
   "metadata": {},
   "outputs": [
    {
     "name": "stderr",
     "output_type": "stream",
     "text": [
      "C:\\Users\\drasu\\AppData\\Local\\Temp\\ipykernel_22808\\1968062032.py:3: SettingWithCopyWarning: \n",
      "A value is trying to be set on a copy of a slice from a DataFrame.\n",
      "Try using .loc[row_indexer,col_indexer] = value instead\n",
      "\n",
      "See the caveats in the documentation: https://pandas.pydata.org/pandas-docs/stable/user_guide/indexing.html#returning-a-view-versus-a-copy\n",
      "  df_NaN['dias_numero']=df_NaN['dias_numero'].astype('int64')\n"
     ]
    },
    {
     "data": {
      "text/html": [
       "<div>\n",
       "<style scoped>\n",
       "    .dataframe tbody tr th:only-of-type {\n",
       "        vertical-align: middle;\n",
       "    }\n",
       "\n",
       "    .dataframe tbody tr th {\n",
       "        vertical-align: top;\n",
       "    }\n",
       "\n",
       "    .dataframe thead th {\n",
       "        text-align: right;\n",
       "    }\n",
       "</style>\n",
       "<table border=\"1\" class=\"dataframe\">\n",
       "  <thead>\n",
       "    <tr style=\"text-align: right;\">\n",
       "      <th></th>\n",
       "      <th>year</th>\n",
       "      <th>mes</th>\n",
       "      <th>Día</th>\n",
       "      <th>valor</th>\n",
       "      <th>Dates</th>\n",
       "      <th>dias_de_la_semana_2</th>\n",
       "      <th>dia , mes</th>\n",
       "      <th>dias_numero</th>\n",
       "    </tr>\n",
       "  </thead>\n",
       "  <tbody>\n",
       "    <tr>\n",
       "      <th>64</th>\n",
       "      <td>1982</td>\n",
       "      <td>10</td>\n",
       "      <td>12</td>\n",
       "      <td>NaN</td>\n",
       "      <td>1982-10-12</td>\n",
       "      <td>Tuesday</td>\n",
       "      <td>12,10</td>\n",
       "      <td>2</td>\n",
       "    </tr>\n",
       "    <tr>\n",
       "      <th>84</th>\n",
       "      <td>1982</td>\n",
       "      <td>11</td>\n",
       "      <td>1</td>\n",
       "      <td>NaN</td>\n",
       "      <td>1982-11-1</td>\n",
       "      <td>Monday</td>\n",
       "      <td>1,11</td>\n",
       "      <td>1</td>\n",
       "    </tr>\n",
       "    <tr>\n",
       "      <th>121</th>\n",
       "      <td>1982</td>\n",
       "      <td>12</td>\n",
       "      <td>8</td>\n",
       "      <td>NaN</td>\n",
       "      <td>1982-12-8</td>\n",
       "      <td>Wednesday</td>\n",
       "      <td>8,12</td>\n",
       "      <td>3</td>\n",
       "    </tr>\n",
       "    <tr>\n",
       "      <th>144</th>\n",
       "      <td>1982</td>\n",
       "      <td>12</td>\n",
       "      <td>31</td>\n",
       "      <td>NaN</td>\n",
       "      <td>1982-12-31</td>\n",
       "      <td>Friday</td>\n",
       "      <td>31,12</td>\n",
       "      <td>5</td>\n",
       "    </tr>\n",
       "    <tr>\n",
       "      <th>158</th>\n",
       "      <td>1983</td>\n",
       "      <td>1</td>\n",
       "      <td>14</td>\n",
       "      <td>NaN</td>\n",
       "      <td>1983-1-14</td>\n",
       "      <td>Friday</td>\n",
       "      <td>14,1</td>\n",
       "      <td>5</td>\n",
       "    </tr>\n",
       "    <tr>\n",
       "      <th>...</th>\n",
       "      <td>...</td>\n",
       "      <td>...</td>\n",
       "      <td>...</td>\n",
       "      <td>...</td>\n",
       "      <td>...</td>\n",
       "      <td>...</td>\n",
       "      <td>...</td>\n",
       "      <td>...</td>\n",
       "    </tr>\n",
       "    <tr>\n",
       "      <th>14389</th>\n",
       "      <td>2021</td>\n",
       "      <td>12</td>\n",
       "      <td>31</td>\n",
       "      <td>NaN</td>\n",
       "      <td>2021-12-31</td>\n",
       "      <td>Friday</td>\n",
       "      <td>31,12</td>\n",
       "      <td>5</td>\n",
       "    </tr>\n",
       "    <tr>\n",
       "      <th>14494</th>\n",
       "      <td>2022</td>\n",
       "      <td>4</td>\n",
       "      <td>15</td>\n",
       "      <td>NaN</td>\n",
       "      <td>2022-4-15</td>\n",
       "      <td>Friday</td>\n",
       "      <td>15,4</td>\n",
       "      <td>5</td>\n",
       "    </tr>\n",
       "    <tr>\n",
       "      <th>14561</th>\n",
       "      <td>2022</td>\n",
       "      <td>6</td>\n",
       "      <td>21</td>\n",
       "      <td>NaN</td>\n",
       "      <td>2022-6-21</td>\n",
       "      <td>Tuesday</td>\n",
       "      <td>21,6</td>\n",
       "      <td>2</td>\n",
       "    </tr>\n",
       "    <tr>\n",
       "      <th>14567</th>\n",
       "      <td>2022</td>\n",
       "      <td>6</td>\n",
       "      <td>27</td>\n",
       "      <td>NaN</td>\n",
       "      <td>2022-6-27</td>\n",
       "      <td>Monday</td>\n",
       "      <td>27,6</td>\n",
       "      <td>1</td>\n",
       "    </tr>\n",
       "    <tr>\n",
       "      <th>14616</th>\n",
       "      <td>2022</td>\n",
       "      <td>8</td>\n",
       "      <td>15</td>\n",
       "      <td>NaN</td>\n",
       "      <td>2022-8-15</td>\n",
       "      <td>Monday</td>\n",
       "      <td>15,8</td>\n",
       "      <td>1</td>\n",
       "    </tr>\n",
       "  </tbody>\n",
       "</table>\n",
       "<p>456 rows × 8 columns</p>\n",
       "</div>"
      ],
      "text/plain": [
       "       year  mes  Día  valor       Dates dias_de_la_semana_2 dia , mes  \\\n",
       "64     1982   10   12    NaN  1982-10-12             Tuesday     12,10   \n",
       "84     1982   11    1    NaN   1982-11-1              Monday      1,11   \n",
       "121    1982   12    8    NaN   1982-12-8           Wednesday      8,12   \n",
       "144    1982   12   31    NaN  1982-12-31              Friday     31,12   \n",
       "158    1983    1   14    NaN   1983-1-14              Friday      14,1   \n",
       "...     ...  ...  ...    ...         ...                 ...       ...   \n",
       "14389  2021   12   31    NaN  2021-12-31              Friday     31,12   \n",
       "14494  2022    4   15    NaN   2022-4-15              Friday      15,4   \n",
       "14561  2022    6   21    NaN   2022-6-21             Tuesday      21,6   \n",
       "14567  2022    6   27    NaN   2022-6-27              Monday      27,6   \n",
       "14616  2022    8   15    NaN   2022-8-15              Monday      15,8   \n",
       "\n",
       "       dias_numero  \n",
       "64               2  \n",
       "84               1  \n",
       "121              3  \n",
       "144              5  \n",
       "158              5  \n",
       "...            ...  \n",
       "14389            5  \n",
       "14494            5  \n",
       "14561            2  \n",
       "14567            1  \n",
       "14616            1  \n",
       "\n",
       "[456 rows x 8 columns]"
      ]
     },
     "execution_count": 84,
     "metadata": {},
     "output_type": "execute_result"
    }
   ],
   "source": [
    "#Transformando tipo de dato para la busqueda\n",
    "\n",
    "df_NaN['dias_numero']=df_NaN['dias_numero'].astype('int64')\n",
    "\n",
    "#Creando Variable dia habil\n",
    "\n",
    "dia_habil= df_NaN[df_NaN['dias_numero'] < 6]\n",
    "dia_habil"
   ]
  },
  {
   "cell_type": "code",
   "execution_count": 103,
   "id": "51d510c2",
   "metadata": {},
   "outputs": [
    {
     "name": "stdout",
     "output_type": "stream",
     "text": [
      "<class 'pandas.core.frame.DataFrame'>\n",
      "Int64Index: 456 entries, 64 to 14616\n",
      "Data columns (total 8 columns):\n",
      " #   Column               Non-Null Count  Dtype  \n",
      "---  ------               --------------  -----  \n",
      " 0   year                 456 non-null    int64  \n",
      " 1   mes                  456 non-null    int64  \n",
      " 2   Día                  456 non-null    int64  \n",
      " 3   valor                0 non-null      float64\n",
      " 4   Dates                456 non-null    object \n",
      " 5   dias_de_la_semana_2  456 non-null    object \n",
      " 6   dia , mes            456 non-null    object \n",
      " 7   dias_numero          456 non-null    int64  \n",
      "dtypes: float64(1), int64(4), object(3)\n",
      "memory usage: 32.1+ KB\n"
     ]
    }
   ],
   "source": [
    "dia_habil.info()"
   ]
  },
  {
   "cell_type": "code",
   "execution_count": 85,
   "id": "67a68ab1",
   "metadata": {},
   "outputs": [
    {
     "data": {
      "text/plain": [
       "1,11     29\n",
       "15,8     29\n",
       "1,1      28\n",
       "8,12     28\n",
       "31,12    28\n",
       "         ..\n",
       "21,4      1\n",
       "19,6      1\n",
       "4,9       1\n",
       "3,9       1\n",
       "15,4      1\n",
       "Name: dia , mes, Length: 78, dtype: int64"
      ]
     },
     "execution_count": 85,
     "metadata": {},
     "output_type": "execute_result"
    }
   ],
   "source": [
    "dia_habil['dia , mes'].value_counts()"
   ]
  },
  {
   "cell_type": "markdown",
   "id": "b1b6e292",
   "metadata": {},
   "source": [
    "### 4.  Luego, cuenta cuantos NaN(incluyendo Sábados y Domingos) hay para cada combinación[dia/mes]. ¿Qué puedes inferir de los días con mayor cantidad de NaN?\n",
    "\n"
   ]
  },
  {
   "cell_type": "code",
   "execution_count": 104,
   "id": "7832b83c",
   "metadata": {},
   "outputs": [
    {
     "data": {
      "text/html": [
       "<div>\n",
       "<style scoped>\n",
       "    .dataframe tbody tr th:only-of-type {\n",
       "        vertical-align: middle;\n",
       "    }\n",
       "\n",
       "    .dataframe tbody tr th {\n",
       "        vertical-align: top;\n",
       "    }\n",
       "\n",
       "    .dataframe thead th {\n",
       "        text-align: right;\n",
       "    }\n",
       "</style>\n",
       "<table border=\"1\" class=\"dataframe\">\n",
       "  <thead>\n",
       "    <tr style=\"text-align: right;\">\n",
       "      <th></th>\n",
       "      <th>year</th>\n",
       "      <th>mes</th>\n",
       "      <th>Día</th>\n",
       "      <th>valor</th>\n",
       "      <th>Dates</th>\n",
       "      <th>dias_de_la_semana_2</th>\n",
       "      <th>dia , mes</th>\n",
       "      <th>dias_numero</th>\n",
       "    </tr>\n",
       "  </thead>\n",
       "  <tbody>\n",
       "    <tr>\n",
       "      <th>5</th>\n",
       "      <td>1982</td>\n",
       "      <td>8</td>\n",
       "      <td>14</td>\n",
       "      <td>NaN</td>\n",
       "      <td>1982-8-14</td>\n",
       "      <td>Saturday</td>\n",
       "      <td>14,8</td>\n",
       "      <td>6</td>\n",
       "    </tr>\n",
       "    <tr>\n",
       "      <th>6</th>\n",
       "      <td>1982</td>\n",
       "      <td>8</td>\n",
       "      <td>15</td>\n",
       "      <td>NaN</td>\n",
       "      <td>1982-8-15</td>\n",
       "      <td>Sunday</td>\n",
       "      <td>15,8</td>\n",
       "      <td>7</td>\n",
       "    </tr>\n",
       "    <tr>\n",
       "      <th>12</th>\n",
       "      <td>1982</td>\n",
       "      <td>8</td>\n",
       "      <td>21</td>\n",
       "      <td>NaN</td>\n",
       "      <td>1982-8-21</td>\n",
       "      <td>Saturday</td>\n",
       "      <td>21,8</td>\n",
       "      <td>6</td>\n",
       "    </tr>\n",
       "  </tbody>\n",
       "</table>\n",
       "</div>"
      ],
      "text/plain": [
       "    year  mes  Día  valor      Dates dias_de_la_semana_2 dia , mes dias_numero\n",
       "5   1982    8   14    NaN  1982-8-14            Saturday      14,8           6\n",
       "6   1982    8   15    NaN  1982-8-15              Sunday      15,8           7\n",
       "12  1982    8   21    NaN  1982-8-21            Saturday      21,8           6"
      ]
     },
     "execution_count": 104,
     "metadata": {},
     "output_type": "execute_result"
    }
   ],
   "source": [
    "dias_total=df_final_dias[df_final_dias['valor'].isnull()]\n",
    "dias_total"
   ]
  },
  {
   "cell_type": "code",
   "execution_count": 108,
   "id": "1d90d995",
   "metadata": {},
   "outputs": [
    {
     "name": "stdout",
     "output_type": "stream",
     "text": [
      "<class 'pandas.core.frame.DataFrame'>\n",
      "Int64Index: 4636 entries, 5 to 14629\n",
      "Data columns (total 8 columns):\n",
      " #   Column               Non-Null Count  Dtype  \n",
      "---  ------               --------------  -----  \n",
      " 0   year                 4636 non-null   int64  \n",
      " 1   mes                  4636 non-null   int64  \n",
      " 2   Día                  4636 non-null   int64  \n",
      " 3   valor                0 non-null      float64\n",
      " 4   Dates                4636 non-null   object \n",
      " 5   dias_de_la_semana_2  4636 non-null   object \n",
      " 6   dia , mes            4636 non-null   object \n",
      " 7   dias_numero          4636 non-null   object \n",
      "dtypes: float64(1), int64(3), object(4)\n",
      "memory usage: 326.0+ KB\n"
     ]
    }
   ],
   "source": [
    "dias_total.info()"
   ]
  },
  {
   "cell_type": "code",
   "execution_count": 107,
   "id": "898a7eec",
   "metadata": {},
   "outputs": [
    {
     "data": {
      "text/plain": [
       "15,8     41\n",
       "25,12    40\n",
       "18,9     40\n",
       "21,5     40\n",
       "1,1      40\n",
       "         ..\n",
       "17,2     11\n",
       "24,2     11\n",
       "2,3      11\n",
       "9,3      11\n",
       "29,2      3\n",
       "Name: dia , mes, Length: 366, dtype: int64"
      ]
     },
     "execution_count": 107,
     "metadata": {},
     "output_type": "execute_result"
    }
   ],
   "source": [
    "dias_total['dia , mes'].value_counts()"
   ]
  },
  {
   "cell_type": "markdown",
   "id": "cd82795e",
   "metadata": {},
   "source": [
    "#### Se puede inferir comparando la cabtidad de fechas con NaN en días habiles total de 456 versus fechas con NaN en el total de los días 4636. Los días habiles representan un 9,8% del total de los NaN, de manera que los fines de semana deben estar vacios siempre."
   ]
  }
 ],
 "metadata": {
  "kernelspec": {
   "display_name": "Python 3 (ipykernel)",
   "language": "python",
   "name": "python3"
  },
  "language_info": {
   "codemirror_mode": {
    "name": "ipython",
    "version": 3
   },
   "file_extension": ".py",
   "mimetype": "text/x-python",
   "name": "python",
   "nbconvert_exporter": "python",
   "pygments_lexer": "ipython3",
   "version": "3.9.12"
  }
 },
 "nbformat": 4,
 "nbformat_minor": 5
}
